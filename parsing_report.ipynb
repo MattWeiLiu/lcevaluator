{
 "cells": [
  {
   "cell_type": "code",
   "execution_count": 6,
   "metadata": {
    "collapsed": true
   },
   "outputs": [],
   "source": [
    "import os, json, imp, re\n",
    "import package.utils as utils"
   ]
  },
  {
   "cell_type": "code",
   "execution_count": 49,
   "metadata": {},
   "outputs": [
    {
     "name": "stdout",
     "output_type": "stream",
     "text": [
      "['', ' ../../local/src/jpg_root/citi/201612HZML-160004FLCS00172', '[2018-11-30 16:49:00,189]: INFO    : Preparing and organizing ocr response ...\\n[2018-11-30 16:49:00,524]: INFO    : Extracting Header and Swift codes for bank citi ...\\n[2018-11-30 16:49:01,096]: INFO    : Evaluating letter of credit ...\\n[2018-11-30 16:49:01,097]: WARNING : 押匯期限: 不重要，應該與信用狀有效期限相同\\n[2018-11-30 16:49:01,099]: WARNING : 保險指示: DAT 需要再從 Document Req 中確認一致性\\n[2018-11-30 16:49:01,099]: WARNING : 利息負擔: Missing 39C 預設『客戶負擔』\\n[2018-11-30 16:49:01,099]: WARNING : 溢價處理: Missing 42P (目前沒看到過，有待商確)\\n[2018-11-30 16:49:01,099]: WARNING : 指定船公司: 在 47A 中 要在與船公司資料庫比對\\n[2018-11-30 16:49:01,099]: WARNING : 裝船方式: unable to find movement info in 45A (此欄位不需要看？)\\n[2018-11-30 16:49:01,099]: WARNING : 指定代理商: (此欄位不需要看？)\\n[2018-11-30 16:49:01,102]: WARNING : 提單: Unable to find document about customs invoice\\n[2018-11-30 16:49:01,102]: WARNING : 提單: Unable to find document about importer\\n[2018-11-30 16:49:01,102]: WARNING : 提單: Unable to find document about weight list\\n[2018-11-30 16:49:01,102]: INFO    : Saving evaluation result in ../../local/src/jpg_root/citi/201612HZML-160004FLCS00172/checklist.json ...\\n']\n",
      " ../../local/src/jpg_root/citi/201612HZML-160004FLCS00172/vision_result.json ...\n",
      "[2018-11-30 16:49:00,189]: INFO    : Preparing and organizing ocr response ...\n",
      "[2018-11-30 16:49:00,524]: INFO    : Extracting Header and Swift codes for bank citi ...\n",
      "[2018-11-30 16:49:01,096]: INFO    : Evaluating letter of credit ...\n",
      "[2018-11-30 16:49:01,097]: WARNING : 押匯期限: 不重要，應該與信用狀有效期限相同\n",
      "[2018-11-30 16:49:01,099]: WARNING : 保險指示: DAT 需要再從 Document Req 中確認一致性\n",
      "[2018-11-30 16:49:01,099]: WARNING : 利息負擔: Missing 39C 預設『客戶負擔』\n",
      "[2018-11-30 16:49:01,099]: WARNING : 溢價處理: Missing 42P (目前沒看到過，有待商確)\n",
      "[2018-11-30 16:49:01,099]: WARNING : 指定船公司: 在 47A 中 要在與船公司資料庫比對\n",
      "[2018-11-30 16:49:01,099]: WARNING : 裝船方式: unable to find movement info in 45A (此欄位不需要看？)\n",
      "[2018-11-30 16:49:01,099]: WARNING : 指定代理商: (此欄位不需要看？)\n",
      "[2018-11-30 16:49:01,102]: WARNING : 提單: Unable to find document about customs invoice\n",
      "[2018-11-30 16:49:01,102]: WARNING : 提單: Unable to find document about importer\n",
      "[2018-11-30 16:49:01,102]: WARNING : 提單: Unable to find document about weight list\n",
      "[2018-11-30 16:49:01,102]: INFO    : Saving evaluation result in ../../local/src/jpg_root/citi/201612HZML-160004FLCS00172/checklist.json ...\n",
      "\n"
     ]
    }
   ],
   "source": [
    "log_path = 'cloudmile_log_20181130'\n",
    "result = utils.loadFileIfExisted(log_path)\n",
    "lines = re.compile('\\[[ \\-\\d,:]*\\]: INFO    : Reading existed ocr response from').split(result)\n",
    "\n",
    "for idx, line in enumerate(lines):\n",
    "    if len(line) == 0: continue\n",
    "    doc_name = ''\n",
    "    if idx ==1:\n",
    "        tmp_str = re.compile('(.*)/vision_result.json ...\\n').split(line)\n",
    "#         doc_name = os.path.basename(tmp_str)\n",
    "        print(tmp_str)\n",
    "\n",
    "#     line = re.sub(r'\\[[ \\-\\d,:]*\\]: ', '', line)\n",
    "    print(line)\n",
    "    break"
   ]
  },
  {
   "cell_type": "code",
   "execution_count": 2,
   "metadata": {},
   "outputs": [
    {
     "ename": "NameError",
     "evalue": "name 'utils' is not defined",
     "output_type": "error",
     "traceback": [
      "\u001b[0;31m--------------------------------------------------------------------------\u001b[0m",
      "\u001b[0;31mNameError\u001b[0m                                Traceback (most recent call last)",
      "\u001b[0;32m<ipython-input-2-3dc463b6ac43>\u001b[0m in \u001b[0;36m<module>\u001b[0;34m()\u001b[0m\n\u001b[1;32m      1\u001b[0m \u001b[0mpath\u001b[0m \u001b[0;34m=\u001b[0m \u001b[0;34m'./report.json'\u001b[0m\u001b[0;34m\u001b[0m\u001b[0m\n\u001b[0;32m----> 2\u001b[0;31m \u001b[0mresult\u001b[0m \u001b[0;34m=\u001b[0m \u001b[0mutils\u001b[0m\u001b[0;34m.\u001b[0m\u001b[0mloadFileIfExisted\u001b[0m\u001b[0;34m(\u001b[0m\u001b[0mpath\u001b[0m\u001b[0;34m)\u001b[0m\u001b[0;34m\u001b[0m\u001b[0m\n\u001b[0m\u001b[1;32m      3\u001b[0m \u001b[0mcount\u001b[0m \u001b[0;34m=\u001b[0m \u001b[0;36m0\u001b[0m\u001b[0;34m\u001b[0m\u001b[0m\n\u001b[1;32m      4\u001b[0m \u001b[0;32mfor\u001b[0m \u001b[0mitem\u001b[0m \u001b[0;32min\u001b[0m \u001b[0mresult\u001b[0m\u001b[0;34m:\u001b[0m\u001b[0;34m\u001b[0m\u001b[0m\n\u001b[1;32m      5\u001b[0m     \u001b[0;32mif\u001b[0m \u001b[0;32mnot\u001b[0m \u001b[0mitem\u001b[0m\u001b[0;34m[\u001b[0m\u001b[0;34m'status'\u001b[0m\u001b[0;34m]\u001b[0m\u001b[0;34m:\u001b[0m\u001b[0;34m\u001b[0m\u001b[0m\n",
      "\u001b[0;31mNameError\u001b[0m: name 'utils' is not defined"
     ]
    }
   ],
   "source": [
    "# path = './report.json'\n",
    "# result = utils.loadFileIfExisted(path)\n",
    "# count = 0\n",
    "# for item in result:\n",
    "#     if not item['status']:\n",
    "#         count += 1\n",
    "#         print(item['message'])\n",
    "#         print('------------------------------------')\n",
    "# print(count)"
   ]
  },
  {
   "cell_type": "code",
   "execution_count": 1,
   "metadata": {},
   "outputs": [
    {
     "name": "stdout",
     "output_type": "stream",
     "text": [
      "[O] unhandlered message:  hello?\n"
     ]
    }
   ],
   "source": [
    "from package.logger import cmLog\n",
    "import imp\n",
    "\n",
    "# imp.reload(logger)\n",
    "cmLog(' hello?')\n"
   ]
  },
  {
   "cell_type": "code",
   "execution_count": null,
   "metadata": {
    "collapsed": true
   },
   "outputs": [],
   "source": []
  },
  {
   "cell_type": "code",
   "execution_count": null,
   "metadata": {
    "collapsed": true
   },
   "outputs": [],
   "source": []
  },
  {
   "cell_type": "code",
   "execution_count": null,
   "metadata": {
    "collapsed": true
   },
   "outputs": [],
   "source": []
  }
 ],
 "metadata": {
  "kernelspec": {
   "display_name": "Python 3",
   "language": "python",
   "name": "python3"
  },
  "language_info": {
   "codemirror_mode": {
    "name": "ipython",
    "version": 3
   },
   "file_extension": ".py",
   "mimetype": "text/x-python",
   "name": "python",
   "nbconvert_exporter": "python",
   "pygments_lexer": "ipython3",
   "version": "3.6.5"
  }
 },
 "nbformat": 4,
 "nbformat_minor": 2
}
