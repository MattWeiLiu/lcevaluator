{
 "cells": [
  {
   "cell_type": "code",
   "execution_count": 3,
   "metadata": {
    "collapsed": true
   },
   "outputs": [],
   "source": [
    "import imp, os, json, re\n",
    "import service\n",
    "import package.logger as logger\n",
    "import package.utils as utils\n",
    "import package.visionapi as visionapi\n",
    "import package.reformatter as formatter\n",
    "import package.evaluator as evaluator\n",
    "import package.augmentation as augm"
   ]
  },
  {
   "cell_type": "code",
   "execution_count": 4,
   "metadata": {
    "collapsed": true
   },
   "outputs": [],
   "source": [
    "# pdf_root = './../../lc_files/citi/20190219'\n",
    "# jpg_root = os.path.join(pdf_root, 'jpgs')\n",
    "# utils.convertPdfsToJpegs(pdf_root, jpg_root)"
   ]
  },
  {
   "cell_type": "code",
   "execution_count": 13,
   "metadata": {},
   "outputs": [
    {
     "name": "stdout",
     "output_type": "stream",
     "text": [
      "[W] No image found in './../../lc_files/citi/20190219/jpgs'\n",
      "./../../lc_files/citi/20190219/jpgs/2500FLCD190004\n",
      "[W] augmentated image path already existed will override the existing file\n",
      "[W] augmentated image path already existed will override the existing file\n",
      "[W] augmentated image path already existed will override the existing file\n",
      "[W] augmentated image path already existed will override the existing file\n",
      "[W] augmentated image path already existed will override the existing file\n",
      "[W] augmentated image path already existed will override the existing file\n",
      "3 ORIGINAL CLEAN ON BOARD OCEAN BILL OF LADIND MADE OUT TO THE ORDER OF BANK OF INDIA VADODARA MAIN BRANCH WITH NOTIFY PARTY AS APPLICANT AND MARKED FR8 PREPAID AND EVIDENCING SHIPMENT OF GOODS DISCRIBED IN FIELD 45A AND 2 NON NEGOTIABLE BILL OF LADDING\n",
      "SIGNED COMMERCIAL INVOICES IN 1 ORIGINAL AND 3 COPIES CERTIFYING THE GOODS SUPPLY ARE AS PER PERFORMA INVOICE REF NO P1071217 02 DATED 17 DEC 2018\n",
      "PACKING LIST W8 NOTE\n",
      "MARINE INSURANCE POLICY OR CERTIFICATE FOR 110 PERCENT OF INVOICE VALUE NOT LATER THAN THE SHIPPING DATE AND ISSUED BY AN INSURANCE COMPANY MADE OUT TO THE ORDER AND BLANK ENDORSED COVERING INSTITUTE CARGO CLAUSE (A) INSTITUTE WAR CLAUSE CARGO AND INSTITUTE STRIKE CLAUSE CARGO FROM BENEFICIARYS WAREHOUSE TO APPLICANTS WAREHOUSE INDIA WITH CLAIMS PAYABLE IN INDIA IN THE CURRENCY OF LC IRRESPECTIVE OF PERCENTAGE TRANSHIPMENT RISKS MUST BE COVERED IF GOODS ARE SUBJECT TO TRANSHIPMENT INCLUDING LOADING UNLOADING RISKS\n",
      "CERTIFICATE OF ORIGIN ISSUED BY CHAMBER OF COMMERCE CERTIFYING THAT THE GOODS ARE OF TAIWAN ORIGIN IN 1 ORIGINAL AND 3 COPIES\n",
      "THE CERTIFICATE OF ANALYSIS IN 3 COPIES\n"
     ]
    }
   ],
   "source": [
    "import unit_test\n",
    "imp.reload(logger)\n",
    "imp.reload(service)\n",
    "imp.reload(visionapi)\n",
    "imp.reload(formatter)\n",
    "imp.reload(evaluator)\n",
    "imp.reload(unit_test)\n",
    "imp.reload(augm)\n",
    "\n",
    "credential = '../../service_acc.json'\n",
    "jpg_root = './../../lc_files/citi/20190219/jpgs'\n",
    "target_doc = None\n",
    "# target_doc = '9ASSL200002BU'\n",
    "# target_doc = '950LI02183620001'\n",
    "# target_doc = '80114UB00100'\n",
    "# target_doc = 'F8OBBG200591'\n",
    "target_doc = '2500FLCD190004'\n",
    "target_bank = \"\"\n",
    "\n",
    "unit_test.CLTestCases.runTestWithService(credential, jpg_root, target_bank, target_doc=target_doc)\n",
    "# unit_test.CLTestCases.runTestWithDir(jpg_root, target_bank, target_doc=target_doc, iteration=10)\n",
    "# unit_test.CLTestCases.runAndPrintTestWithDir(jpg_root, target_bank, target_doc=target_doc\n",
    "#                                              , save = True\n",
    "#                                              , iteration=10)\n"
   ]
  },
  {
   "cell_type": "code",
   "execution_count": 14,
   "metadata": {
    "collapsed": true,
    "scrolled": true
   },
   "outputs": [],
   "source": [
    "from PIL import Image, ImageDraw\n",
    "bounds = [\n",
    "    [130,770,930,1080]\n",
    "#     [133, 826, 908, 1049]\n",
    "#          [141.0, 410.0, 426.0, 441.0],\n",
    "#          [923.0, 572.0, 1463.0, 750.0],\n",
    "#          [127.0, 835.0, 723.0, 861.0],\n",
    "#          [135.0, 826.0, 740.0, 914.0]\n",
    "         ]\n",
    "img_path = './../../lc_files/20190102/jpgs/ILC1802381/page_1.jpg'\n",
    "image = Image.open(img_path)\n",
    "draw = ImageDraw.Draw(image)\n",
    "utils.draw_boxes(draw, bounds)\n",
    "image.save('stdout.png', \"PNG\")"
   ]
  },
  {
   "cell_type": "code",
   "execution_count": 9,
   "metadata": {
    "collapsed": true
   },
   "outputs": [],
   "source": [
    "text_1 = '''\n",
    "3. PACKING LIST IN 1 ORIGINAL PLUS 2 COPIES.\n",
    "\n",
    "4, CERTIFICATE OF ORIGIN IN 1 ORIGINAL PLUS 2 COPIES.\n",
    "\n",
    "5. CERTIFICATE OF ANALYSIS IN DUPLICATE\n",
    "'''"
   ]
  },
  {
   "cell_type": "code",
   "execution_count": 32,
   "metadata": {},
   "outputs": [
    {
     "name": "stdout",
     "output_type": "stream",
     "text": [
      "None\n"
     ]
    }
   ],
   "source": [
    "text_2 = '''+2. BENEFICIARY'S SIGNED COMMERCIAL INVOICE IN 1 ORIGINAL PLUS 2\n",
    "+COPIES COVERING GOODS AS PER 'GOODS DESCRIPTION\"T CLAUSE.\n",
    "\n",
    "+INVOICE TO MENTION FREIGHT CHARGES AND INSURANCE CHARGES\n",
    "+SEPERATELY.\n",
    "\n",
    "+3. PACKING LIST IN 1 ORIGINAL PLUS 2 COPIES.\n",
    "\n",
    "+4, CERTIFICATE OF ORIGIN IN 1 ORIGINAL PLUS 2 COPIES.\n",
    "+\n",
    "+5. CERTIFICATE OF ANALYSIS IN DUPLICATE\n",
    "'''\n",
    "\n",
    "text_3 = '''344 PACKING LIST IN 1 ORIGINAL PLUS 2 COPIES.\n",
    "\n",
    "444 CERTIFICATE OF ORIGIN IN 1 ORIGINAL PLUS 2 COPIES.\n",
    "\n",
    "555 CERTIFICATE OF ANALYSIS IN DUPLICATE\n",
    "'''\n",
    "\n",
    "# tmp_para = re.split('\\n\\n', text_2)\n",
    "tmp_para = re.compile(\"(?:\\n\\+\\n|\\n\\n)\").split(text_3)\n",
    "paragraphs = ''\n",
    "for s in tmp_para:\n",
    "    paragraphs += re.sub('\\n\\+|\\n',' ', s) + '\\n'\n",
    "\n",
    "def findPrefix(line_list, pat_list):\n",
    "    idx_list = [0] * len(pat_list)\n",
    "    for line in line_list:\n",
    "        for idx, pat in enumerate(pat_list):\n",
    "            matched = re.match(pat, line)\n",
    "            if matched and matched.start() == 0:\n",
    "                idx_list[idx] += 1\n",
    "    if sum(idx_list) == 0:\n",
    "        return None\n",
    "    else:\n",
    "        maximum = max(idx_list)\n",
    "        return idx_list.index(maximum)\n",
    "\n",
    "line_list = paragraphs.split('\\n')\n",
    "pattern_list = ['\\+?\\(?\\d{1,2} ?[\\.\\) ,] ?', '[a-zA-Z][\\. ,]', '[\\+] ?', '\\d{1,2} ?\\/ ?']\n",
    "test = findPrefix(line_list, pattern_list)\n",
    "\n",
    "print(test)"
   ]
  },
  {
   "cell_type": "code",
   "execution_count": null,
   "metadata": {
    "collapsed": true
   },
   "outputs": [],
   "source": [
    "test1 = ['123', '123456', '1,234.56', '12,345.6', '12,345.60', '345.60', '12,345']\n",
    "test2 = ['1,23', '1,2', '12,3', '12,34', '12.345,6', '1.234,56', '123,4', '123,45']"
   ]
  },
  {
   "cell_type": "code",
   "execution_count": 8,
   "metadata": {},
   "outputs": [
    {
     "name": "stdout",
     "output_type": "stream",
     "text": [
      "[0, 0, 0, 0, 0, 0, 0, 0, 0, 0]\n"
     ]
    }
   ],
   "source": []
  },
  {
   "cell_type": "code",
   "execution_count": null,
   "metadata": {
    "collapsed": true
   },
   "outputs": [],
   "source": []
  }
 ],
 "metadata": {
  "kernelspec": {
   "display_name": "Python 3",
   "language": "python",
   "name": "python3"
  },
  "language_info": {
   "codemirror_mode": {
    "name": "ipython",
    "version": 3
   },
   "file_extension": ".py",
   "mimetype": "text/x-python",
   "name": "python",
   "nbconvert_exporter": "python",
   "pygments_lexer": "ipython3",
   "version": "3.6.5"
  }
 },
 "nbformat": 4,
 "nbformat_minor": 2
}
