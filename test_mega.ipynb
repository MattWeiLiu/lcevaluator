{
 "cells": [
  {
   "cell_type": "code",
   "execution_count": 2,
   "metadata": {
    "collapsed": true
   },
   "outputs": [],
   "source": [
    "import imp, os, json, re\n",
    "import service\n",
    "import package.logger as logger\n",
    "import package.utils as utils\n",
    "import package.visionapi as visionapi\n",
    "import package.reformatter as formatter\n",
    "import package.evaluator as evaluator\n",
    "import package.augmentation as augm"
   ]
  },
  {
   "cell_type": "code",
   "execution_count": 3,
   "metadata": {
    "collapsed": true
   },
   "outputs": [],
   "source": [
    "# pdf_root = './../../lc_files/mega/20190211'\n",
    "# jpg_root = os.path.join(pdf_root, 'jpgs')\n",
    "# utils.convertPdfsToJpegs(pdf_root, jpg_root)"
   ]
  },
  {
   "cell_type": "code",
   "execution_count": 6,
   "metadata": {},
   "outputs": [
    {
     "name": "stdout",
     "output_type": "stream",
     "text": [
      "[W] No image found in './../../lc_files/mega/20190211/jpgs'\n",
      "./../../lc_files/mega/20190211/jpgs/003LC01183610034\n",
      "[W] augmentated image path already existed will override the existing file\n",
      "[W] augmentated image path already existed will override the existing file\n",
      "[W] augmentated image path already existed will override the existing file\n",
      "[W] augmentated image path already existed will override the existing file\n",
      "./../../lc_files/mega/20190211/jpgs/003LC01183610034\n",
      "./../../lc_files/mega/20190211/jpgs/003LC01183610034/vision_result.json\n"
     ]
    }
   ],
   "source": [
    "import unit_test\n",
    "imp.reload(logger)\n",
    "imp.reload(service)\n",
    "imp.reload(visionapi)\n",
    "imp.reload(formatter)\n",
    "imp.reload(evaluator)\n",
    "imp.reload(unit_test)\n",
    "imp.reload(augm)\n",
    "\n",
    "credential = '../../service_acc.json'\n",
    "jpg_root = './../../lc_files/mega/20190211/jpgs'\n",
    "target_doc = None\n",
    "target_doc = '003LC01183610034'\n",
    "# target_doc = '4018MDC190000069'\n",
    "target_bank = \"\"\n",
    "\n",
    "unit_test.CLTestCases.runTestWithService(credential, jpg_root, target_bank, target_doc=target_doc)"
   ]
  },
  {
   "cell_type": "code",
   "execution_count": null,
   "metadata": {
    "collapsed": true
   },
   "outputs": [],
   "source": []
  },
  {
   "cell_type": "code",
   "execution_count": null,
   "metadata": {
    "collapsed": true
   },
   "outputs": [],
   "source": []
  }
 ],
 "metadata": {
  "kernelspec": {
   "display_name": "Python 3",
   "language": "python",
   "name": "python3"
  },
  "language_info": {
   "codemirror_mode": {
    "name": "ipython",
    "version": 3
   },
   "file_extension": ".py",
   "mimetype": "text/x-python",
   "name": "python",
   "nbconvert_exporter": "python",
   "pygments_lexer": "ipython3",
   "version": "3.6.5"
  }
 },
 "nbformat": 4,
 "nbformat_minor": 2
}
