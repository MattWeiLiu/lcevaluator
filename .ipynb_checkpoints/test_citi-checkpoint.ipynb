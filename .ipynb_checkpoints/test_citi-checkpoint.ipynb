{
 "cells": [
  {
   "cell_type": "code",
   "execution_count": 1,
   "metadata": {
    "collapsed": true
   },
   "outputs": [],
   "source": [
    "import imp, os, json, re\n",
    "import service\n",
    "import package.logger as logger\n",
    "import package.utils as utils\n",
    "import package.visionapi as visionapi\n",
    "import package.reformatter as formatter\n",
    "import package.evaluator as evaluator\n",
    "import package.augmentation as augm"
   ]
  },
  {
   "cell_type": "code",
   "execution_count": 2,
   "metadata": {},
   "outputs": [
    {
     "name": "stdout",
     "output_type": "stream",
     "text": [
      "[W] No image found in './../../lc_files/citi/20190212/jpgs'\n",
      "[W] No image found in './../../lc_files/citi/20190212/jpgs/80114UB00100'\n"
     ]
    }
   ],
   "source": [
    "pdf_root = './../../lc_files/citi/20190212'\n",
    "jpg_root = os.path.join(pdf_root, 'jpgs')\n",
    "utils.convertPdfsToJpegs(pdf_root, jpg_root)"
   ]
  },
  {
   "cell_type": "code",
   "execution_count": 51,
   "metadata": {},
   "outputs": [
    {
     "name": "stdout",
     "output_type": "stream",
     "text": [
      "[W] No image found in './../../lc_files/20190102/jpgs'\n",
      "[W] augmentated image path already existed will override the existing file\n",
      "[W] augmentated image path already existed will override the existing file\n",
      "[W] augmentated image path already existed will override the existing file\n",
      "[W] augmentated image path already existed will override the existing file\n",
      "[W] augmentated image path already existed will override the existing file\n",
      "[W] augmentated image path already existed will override the existing file\n"
     ]
    }
   ],
   "source": [
    "import unit_test\n",
    "imp.reload(logger)\n",
    "imp.reload(service)\n",
    "imp.reload(visionapi)\n",
    "imp.reload(formatter)\n",
    "imp.reload(evaluator)\n",
    "imp.reload(unit_test)\n",
    "imp.reload(augm)\n",
    "\n",
    "credential = '../../service_acc.json'\n",
    "# jpg_root = '../../local/src/jpg_root'\n",
    "jpg_root = './../../lc_files/citi/20190212/jpgs'\n",
    "target_doc = None\n",
    "### 2018\n",
    "# jpg_root = './../../lc_files/20181218/jpgs'\n",
    "# target_doc = '83340002'\n",
    "### 2019\n",
    "# target_doc ='0003LC01183530021' ### 第一行為 Document Required 此為需要過濾掉的 - FIXED\n",
    "# target_doc = '0003LC01183580012' ### 同上 - FIXED\n",
    "# target_doc = 'DOC688276T4' ### - FIXED\n",
    "# target_doc = 'ILC1802381' ### 信用狀號碼辨識錯誤，原因是Vision API 判讀了兩次同一行字 - 跳過\n",
    "target_doc = '0004FLC180147'  ### 信用狀雜訊過多，+ 辨識成 - 導致判讀錯誤 - 跳過\n",
    "# target_doc = '2534IMP000988018' ### 1. 有出現 B/L 的關鍵字 但實際上在講 B/L 是在第三點 - 跳過\n",
    "# target_doc = '36301009958L' ### missing 45A, used 45B 但總數會變兩倍 - 跳過\n",
    "# target_doc = 'DOAM050907' ### 付款條件目前只判斷 42C 但有時是在 42P - FIXED\n",
    "# target_doc = '381LC102345' ### 辨識失敗 格式位置相差太多 （需要做一下Image preprocessing 統一所有信用狀位置）- 跳過\n",
    "# target_doc = '0890018538IDS' ### Missing 44A value 未看到這問題 - FIXED?\n",
    "# target_doc = 'DOAM050904' ### 3-FOLD 增加 （\"-\"在 FOLD 的判斷）\n",
    "# target_doc = '5655602089' ### 段落太複雜每一行都有 + 號 就算空白也有。 - 跳過\n",
    "# target_doc = '0013FLC180227' ### 增加Special case handler (處理 (ORGINAL PLUS COPY)) 因為沒有數字，因此當作各一份 - FIXED\n",
    "# target_doc = '003LC01183530001' ### 同 0003LC01183530021 - FIXED \n",
    "\n",
    "\n",
    "\n",
    "target_bank = \"\"\n",
    "# target_bank = 'wellsfargo'\n",
    "# target_bank = 'citi'\n",
    "unit_test.CLTestCases.runTestWithService(credential, jpg_root, target_bank, target_doc=target_doc)\n",
    "# unit_test.CLTestCases.runTestWithDir(jpg_root, target_bank, target_doc=target_doc, iteration=10)\n",
    "# unit_test.CLTestCases.runAndPrintTestWithDir(jpg_root, target_bank, target_doc=target_doc\n",
    "#                                              , save = True\n",
    "#                                              , iteration=10)\n"
   ]
  },
  {
   "cell_type": "code",
   "execution_count": 2,
   "metadata": {
    "scrolled": true
   },
   "outputs": [
    {
     "ename": "NameError",
     "evalue": "name 'utils' is not defined",
     "output_type": "error",
     "traceback": [
      "\u001b[0;31m---------------------------------------------------------------------------\u001b[0m",
      "\u001b[0;31mNameError\u001b[0m                                 Traceback (most recent call last)",
      "\u001b[0;32m<ipython-input-2-0bc008765516>\u001b[0m in \u001b[0;36m<module>\u001b[0;34m()\u001b[0m\n\u001b[1;32m     11\u001b[0m \u001b[0mimage\u001b[0m \u001b[0;34m=\u001b[0m \u001b[0mImage\u001b[0m\u001b[0;34m.\u001b[0m\u001b[0mopen\u001b[0m\u001b[0;34m(\u001b[0m\u001b[0mimg_path\u001b[0m\u001b[0;34m)\u001b[0m\u001b[0;34m\u001b[0m\u001b[0m\n\u001b[1;32m     12\u001b[0m \u001b[0mdraw\u001b[0m \u001b[0;34m=\u001b[0m \u001b[0mImageDraw\u001b[0m\u001b[0;34m.\u001b[0m\u001b[0mDraw\u001b[0m\u001b[0;34m(\u001b[0m\u001b[0mimage\u001b[0m\u001b[0;34m)\u001b[0m\u001b[0;34m\u001b[0m\u001b[0m\n\u001b[0;32m---> 13\u001b[0;31m \u001b[0mutils\u001b[0m\u001b[0;34m.\u001b[0m\u001b[0mdraw_boxes\u001b[0m\u001b[0;34m(\u001b[0m\u001b[0mdraw\u001b[0m\u001b[0;34m,\u001b[0m \u001b[0mbounds\u001b[0m\u001b[0;34m)\u001b[0m\u001b[0;34m\u001b[0m\u001b[0m\n\u001b[0m\u001b[1;32m     14\u001b[0m \u001b[0mimage\u001b[0m\u001b[0;34m.\u001b[0m\u001b[0msave\u001b[0m\u001b[0;34m(\u001b[0m\u001b[0;34m'stdout.png'\u001b[0m\u001b[0;34m,\u001b[0m \u001b[0;34m\"PNG\"\u001b[0m\u001b[0;34m)\u001b[0m\u001b[0;34m\u001b[0m\u001b[0m\n",
      "\u001b[0;31mNameError\u001b[0m: name 'utils' is not defined"
     ]
    }
   ],
   "source": [
    "from PIL import Image, ImageDraw\n",
    "bounds = [\n",
    "    [130,770,930,1080]\n",
    "#     [133, 826, 908, 1049]\n",
    "#          [141.0, 410.0, 426.0, 441.0],\n",
    "#          [923.0, 572.0, 1463.0, 750.0],\n",
    "#          [127.0, 835.0, 723.0, 861.0],\n",
    "#          [135.0, 826.0, 740.0, 914.0]\n",
    "         ]\n",
    "img_path = './../../lc_files/20190102/jpgs/ILC1802381/page_1.jpg'\n",
    "image = Image.open(img_path)\n",
    "draw = ImageDraw.Draw(image)\n",
    "utils.draw_boxes(draw, bounds)\n",
    "image.save('stdout.png', \"PNG\")"
   ]
  },
  {
   "cell_type": "code",
   "execution_count": 9,
   "metadata": {
    "collapsed": true
   },
   "outputs": [],
   "source": [
    "text_1 = '''\n",
    "3. PACKING LIST IN 1 ORIGINAL PLUS 2 COPIES.\n",
    "\n",
    "4, CERTIFICATE OF ORIGIN IN 1 ORIGINAL PLUS 2 COPIES.\n",
    "\n",
    "5. CERTIFICATE OF ANALYSIS IN DUPLICATE\n",
    "'''"
   ]
  },
  {
   "cell_type": "code",
   "execution_count": 32,
   "metadata": {},
   "outputs": [
    {
     "name": "stdout",
     "output_type": "stream",
     "text": [
      "None\n"
     ]
    }
   ],
   "source": [
    "text_2 = '''+2. BENEFICIARY'S SIGNED COMMERCIAL INVOICE IN 1 ORIGINAL PLUS 2\n",
    "+COPIES COVERING GOODS AS PER 'GOODS DESCRIPTION\"T CLAUSE.\n",
    "\n",
    "+INVOICE TO MENTION FREIGHT CHARGES AND INSURANCE CHARGES\n",
    "+SEPERATELY.\n",
    "\n",
    "+3. PACKING LIST IN 1 ORIGINAL PLUS 2 COPIES.\n",
    "\n",
    "+4, CERTIFICATE OF ORIGIN IN 1 ORIGINAL PLUS 2 COPIES.\n",
    "+\n",
    "+5. CERTIFICATE OF ANALYSIS IN DUPLICATE\n",
    "'''\n",
    "\n",
    "text_3 = '''344 PACKING LIST IN 1 ORIGINAL PLUS 2 COPIES.\n",
    "\n",
    "444 CERTIFICATE OF ORIGIN IN 1 ORIGINAL PLUS 2 COPIES.\n",
    "\n",
    "555 CERTIFICATE OF ANALYSIS IN DUPLICATE\n",
    "'''\n",
    "\n",
    "# tmp_para = re.split('\\n\\n', text_2)\n",
    "tmp_para = re.compile(\"(?:\\n\\+\\n|\\n\\n)\").split(text_3)\n",
    "paragraphs = ''\n",
    "for s in tmp_para:\n",
    "    paragraphs += re.sub('\\n\\+|\\n',' ', s) + '\\n'\n",
    "\n",
    "def findPrefix(line_list, pat_list):\n",
    "    idx_list = [0] * len(pat_list)\n",
    "    for line in line_list:\n",
    "        for idx, pat in enumerate(pat_list):\n",
    "            matched = re.match(pat, line)\n",
    "            if matched and matched.start() == 0:\n",
    "                idx_list[idx] += 1\n",
    "    if sum(idx_list) == 0:\n",
    "        return None\n",
    "    else:\n",
    "        maximum = max(idx_list)\n",
    "        return idx_list.index(maximum)\n",
    "    \n",
    "line_list = paragraphs.split('\\n')\n",
    "pattern_list = ['\\+?\\(?\\d{1,2} ?[\\.\\) ,] ?', '[a-zA-Z][\\. ,]', '[\\+] ?', '\\d{1,2} ?\\/ ?']\n",
    "test = findPrefix(line_list, pattern_list)\n",
    "\n",
    "print(test)"
   ]
  },
  {
   "cell_type": "code",
   "execution_count": null,
   "metadata": {
    "collapsed": true
   },
   "outputs": [],
   "source": [
    "test1 = ['123', '123456', '1,234.56', '12,345.6', '12,345.60', '345.60', '12,345']\n",
    "test2 = ['1,23', '1,2', '12,3', '12,34', '12.345,6', '1.234,56', '123,4', '123,45']"
   ]
  },
  {
   "cell_type": "code",
   "execution_count": 8,
   "metadata": {},
   "outputs": [
    {
     "name": "stdout",
     "output_type": "stream",
     "text": [
      "[0, 0, 0, 0, 0, 0, 0, 0, 0, 0]\n"
     ]
    }
   ],
   "source": []
  },
  {
   "cell_type": "code",
   "execution_count": null,
   "metadata": {
    "collapsed": true
   },
   "outputs": [],
   "source": []
  }
 ],
 "metadata": {
  "kernelspec": {
   "display_name": "Python 3",
   "language": "python",
   "name": "python3"
  },
  "language_info": {
   "codemirror_mode": {
    "name": "ipython",
    "version": 3
   },
   "file_extension": ".py",
   "mimetype": "text/x-python",
   "name": "python",
   "nbconvert_exporter": "python",
   "pygments_lexer": "ipython3",
   "version": "3.6.5"
  }
 },
 "nbformat": 4,
 "nbformat_minor": 2
}
