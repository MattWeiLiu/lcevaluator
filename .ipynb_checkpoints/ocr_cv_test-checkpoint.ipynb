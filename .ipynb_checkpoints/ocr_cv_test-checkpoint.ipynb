{
 "cells": [
  {
   "cell_type": "code",
   "execution_count": 61,
   "metadata": {},
   "outputs": [],
   "source": [
    "import cv2, imp, os\n",
    "from PIL import Image, ImageDraw\n",
    "import numpy as np"
   ]
  },
  {
   "cell_type": "code",
   "execution_count": 51,
   "metadata": {},
   "outputs": [
    {
     "name": "stdout",
     "output_type": "stream",
     "text": [
      "3.3.0-dev\n",
      "(2338, 1653)\n"
     ]
    }
   ],
   "source": [
    "print(cv2.__version__)\n",
    "\n",
    "jpg_root = './../../lc_files/20181218_jpg/1846IMP001006318/page_4.jpg'\n",
    "\n",
    "\n",
    "img = cv2.imread(jpg_root, 0)\n",
    "# img = cv2.cvtColor(img, cv2.COLOR_BGR2RGB)\n",
    "# img = cv2.bitwise_not(img)\n",
    "kernel = np.ones((2,2),np.uint8)\n",
    "erosion = cv2.erode(img,kernel,iterations = 1)\n",
    "image = Image.fromarray(erosion)\n",
    "# image.show()\n",
    "saved_path = \"./cvtest.jpg\"\n",
    "image.save(saved_path, \"JPEG\")"
   ]
  },
  {
   "cell_type": "code",
   "execution_count": 70,
   "metadata": {},
   "outputs": [
    {
     "ename": "error",
     "evalue": "/tmp/opencv3-20170912-3539-ku8vg6/modules/core/src/matrix.cpp:981: error: (-215) dims <= 2 && step[0] > 0 in function locateROI\n",
     "output_type": "error",
     "traceback": [
      "\u001b[0;31m------------------------------------------------------------------------\u001b[0m",
      "\u001b[0;31merror\u001b[0m                                  Traceback (most recent call last)",
      "\u001b[0;32m<ipython-input-70-ceba9749f1ad>\u001b[0m in \u001b[0;36m<module>\u001b[0;34m()\u001b[0m\n\u001b[1;32m      9\u001b[0m \u001b[0mimp\u001b[0m\u001b[0;34m.\u001b[0m\u001b[0mreload\u001b[0m\u001b[0;34m(\u001b[0m\u001b[0mservice\u001b[0m\u001b[0;34m)\u001b[0m\u001b[0;34m\u001b[0m\u001b[0m\n\u001b[1;32m     10\u001b[0m \u001b[0;34m\u001b[0m\u001b[0m\n\u001b[0;32m---> 11\u001b[0;31m \u001b[0mimgaug\u001b[0m\u001b[0;34m.\u001b[0m\u001b[0merodeImage\u001b[0m\u001b[0;34m(\u001b[0m\u001b[0mjpg_root\u001b[0m\u001b[0;34m)\u001b[0m\u001b[0;34m\u001b[0m\u001b[0m\n\u001b[0m\u001b[1;32m     12\u001b[0m \u001b[0;34m\u001b[0m\u001b[0m\n\u001b[1;32m     13\u001b[0m \u001b[0mjpg_root\u001b[0m \u001b[0;34m=\u001b[0m \u001b[0;34m'./../../lc_files/20181218_jpg/1846IMP001006318'\u001b[0m\u001b[0;34m\u001b[0m\u001b[0m\n",
      "\u001b[0;32m~/Documents/career/cloudmile/cases/formosa_plastics/credit_letters/git/lcevaluator/package/augmentation.py\u001b[0m in \u001b[0;36merodeImage\u001b[0;34m(src_path, dst_path, grayscaled, kernel, iterations)\u001b[0m\n\u001b[1;32m     43\u001b[0m \u001b[0;34m\u001b[0m\u001b[0m\n\u001b[1;32m     44\u001b[0m     \u001b[0mkernel\u001b[0m \u001b[0;34m=\u001b[0m \u001b[0mnp\u001b[0m\u001b[0;34m.\u001b[0m\u001b[0mones\u001b[0m\u001b[0;34m(\u001b[0m\u001b[0mkernel\u001b[0m\u001b[0;34m,\u001b[0m \u001b[0mnp\u001b[0m\u001b[0;34m.\u001b[0m\u001b[0muint8\u001b[0m\u001b[0;34m)\u001b[0m\u001b[0;34m\u001b[0m\u001b[0m\n\u001b[0;32m---> 45\u001b[0;31m     \u001b[0merosion\u001b[0m \u001b[0;34m=\u001b[0m \u001b[0mcv2\u001b[0m\u001b[0;34m.\u001b[0m\u001b[0merode\u001b[0m\u001b[0;34m(\u001b[0m\u001b[0mimg\u001b[0m\u001b[0;34m,\u001b[0m\u001b[0mkernel\u001b[0m\u001b[0;34m,\u001b[0m \u001b[0miterations\u001b[0m \u001b[0;34m=\u001b[0m \u001b[0;36m1\u001b[0m\u001b[0;34m)\u001b[0m\u001b[0;34m\u001b[0m\u001b[0m\n\u001b[0m\u001b[1;32m     46\u001b[0m     \u001b[0mimage\u001b[0m \u001b[0;34m=\u001b[0m \u001b[0mImage\u001b[0m\u001b[0;34m.\u001b[0m\u001b[0mfromarray\u001b[0m\u001b[0;34m(\u001b[0m\u001b[0merosion\u001b[0m\u001b[0;34m)\u001b[0m\u001b[0;34m\u001b[0m\u001b[0m\n\u001b[1;32m     47\u001b[0m     \u001b[0mimage\u001b[0m\u001b[0;34m.\u001b[0m\u001b[0msave\u001b[0m\u001b[0;34m(\u001b[0m\u001b[0mdst_path\u001b[0m\u001b[0;34m,\u001b[0m \u001b[0;34m\"JPEG\"\u001b[0m\u001b[0;34m)\u001b[0m\u001b[0;34m\u001b[0m\u001b[0m\n",
      "\u001b[0;31merror\u001b[0m: /tmp/opencv3-20170912-3539-ku8vg6/modules/core/src/matrix.cpp:981: error: (-215) dims <= 2 && step[0] > 0 in function locateROI\n"
     ]
    }
   ],
   "source": [
    "import package.utils as utils\n",
    "import package.visionapi as visionapi\n",
    "import package.augmentation as imgaug\n",
    "import service\n",
    "\n",
    "imp.reload(utils)\n",
    "imp.reload(visionapi)\n",
    "imp.reload(imgaug)\n",
    "imp.reload(service)\n",
    "\n",
    "imgaug.erodeImage(jpg_root)\n",
    "\n",
    "jpg_root = './../../lc_files/20181218_jpg/1846IMP001006318'\n",
    "jpg_list = ['./../../lc_files/20181218_jpg/1846IMP001006318/page_1.jpg', \n",
    "            './../../lc_files/20181218_jpg/1846IMP001006318/page_2.jpg', \n",
    "            './../../lc_files/20181218_jpg/1846IMP001006318/page_3.jpg', \n",
    "            './../../lc_files/20181218_jpg/1846IMP001006318/page_4.jpg', \n",
    "            './../../lc_files/20181218_jpg/1846IMP001006318/page_5.jpg', \n",
    "            './../../lc_files/20181218_jpg/1846IMP001006318/page_6.jpg']\n",
    "\n",
    "credential = '../../service_acc.json'\n",
    "visionapi.set_vision_credential(credential)\n",
    "# res = visionapi.annotateDocument(saved_path)\n",
    "service.annotateCreditLetter(credential, '0001', jpg_list, jpg_root)"
   ]
  },
  {
   "cell_type": "code",
   "execution_count": 65,
   "metadata": {},
   "outputs": [
    {
     "name": "stdout",
     "output_type": "stream",
     "text": [
      "page_4.jpg\n"
     ]
    }
   ],
   "source": [
    "tmp = os.path.basename(jpg_root)\n",
    "print(tmp)"
   ]
  },
  {
   "cell_type": "code",
   "execution_count": null,
   "metadata": {
    "collapsed": true
   },
   "outputs": [],
   "source": []
  }
 ],
 "metadata": {
  "kernelspec": {
   "display_name": "Python 3",
   "language": "python",
   "name": "python3"
  },
  "language_info": {
   "codemirror_mode": {
    "name": "ipython",
    "version": 3
   },
   "file_extension": ".py",
   "mimetype": "text/x-python",
   "name": "python",
   "nbconvert_exporter": "python",
   "pygments_lexer": "ipython3",
   "version": "3.6.5"
  }
 },
 "nbformat": 4,
 "nbformat_minor": 2
}
