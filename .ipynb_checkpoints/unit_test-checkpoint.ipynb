{
 "cells": [
  {
   "cell_type": "code",
   "execution_count": 1,
   "metadata": {
    "collapsed": true
   },
   "outputs": [],
   "source": [
    "import imp, os, json, re\n",
    "import service\n",
    "import package.logger as logger\n",
    "import package.utils as utils\n",
    "import package.visionapi as visionapi\n",
    "import package.reformatter as formatter\n",
    "import package.evaluator as evaluator\n",
    "import package.augmentation as augm"
   ]
  },
  {
   "cell_type": "code",
   "execution_count": 273,
   "metadata": {},
   "outputs": [
    {
     "name": "stdout",
     "output_type": "stream",
     "text": [
      "[W] No image found in './../../lc_files/20190102/jpgs'\n",
      "[W] No image found in './../../lc_files/20190102/jpgs/0003LC01183530021'\n",
      "[W] No image found in './../../lc_files/20190102/jpgs/0003LC01183580012'\n",
      "[W] No image found in './../../lc_files/20190102/jpgs/0004FLC180147'\n",
      "[W] No image found in './../../lc_files/20190102/jpgs/0013FLC180227'\n",
      "[W] No image found in './../../lc_files/20190102/jpgs/003LC01183530001'\n",
      "[W] No image found in './../../lc_files/20190102/jpgs/0890018538IDS'\n",
      "[W] No image found in './../../lc_files/20190102/jpgs/2534IMP000988018'\n",
      "[W] No image found in './../../lc_files/20190102/jpgs/363010099958L'\n",
      "[W] No image found in './../../lc_files/20190102/jpgs/381LC102345'\n",
      "[W] No image found in './../../lc_files/20190102/jpgs/5655602089'\n",
      "[W] No image found in './../../lc_files/20190102/jpgs/DOAM050904'\n",
      "[W] No image found in './../../lc_files/20190102/jpgs/DOAM050907'\n",
      "[W] No image found in './../../lc_files/20190102/jpgs/DOC688276T4'\n",
      "[W] No image found in './../../lc_files/20190102/jpgs/ILC1802381'\n",
      "[W] No image found in './../../lc_files/20190102/jpgs/LCBK78540'\n"
     ]
    }
   ],
   "source": [
    "pdf_root = './../../lc_files/20190102'\n",
    "jpg_root = os.path.join(pdf_root, 'jpgs')\n",
    "utils.convertPdfsToJpegs(pdf_root, jpg_root)"
   ]
  },
  {
   "cell_type": "code",
   "execution_count": 29,
   "metadata": {},
   "outputs": [
    {
     "name": "stdout",
     "output_type": "stream",
     "text": [
      "[W] augmentated image path already existed will override the existing file\n",
      "[W] augmentated image path already existed will override the existing file\n",
      "[W] augmentated image path already existed will override the existing file\n",
      "[W] augmentated image path already existed will override the existing file\n",
      "[W] augmentated image path already existed will override the existing file\n",
      "[W] augmentated image path already existed will override the existing file\n",
      "['1. CLEAN ONBOARD OCEAN BILLS OF LADING (FULL SET REQUIRED IF', 'MORE THAN ONE ORIGINAL ISSUED), MARKED FREIGHT PREPAID, MADE TO', 'THE ORDER OF CITIBANK NA., HYDERABAD, NOTIFY', 'AMAR ORGANICS,', 'ADINATH TRADE COMPLEX,', 'SHOP NO. 162 100FT ROAD,', 'MADHAVARAM, CHENNAI 600 060,', 'INDIA', 'GST NO. 33AAGFA4722P2ZC', 'IEC.CODE : 0906007216', 'EMAIL ID : INFOATAMARORGANICS.COM', '', 'BL (OR) SHIPPING COMPANY CERTIFICATE TO STATE MINIMUM 14 DAYS', 'FREE DETENTION TIME.', '', \"2. BENEFICIARY'S SIGNED COMMERCIAL INVOICE IN 1 ORIGINAL PLUS 2\", 'COPIES COVERING GOODS AS PER \\'GOODS DESCRIPTION\"T CLAUSE.', '', 'INVOICE TO MENTION FREIGHT CHARGES AND INSURANCE CHARGES', 'SEPERATELY.', '', 'INVOICE TO MENTION THE BELOW ADDRESS:', 'AMAR ORGANICS,', 'ADINATH TRADE COMPLEX,', 'SHOP NO. 162 100FT ROAD,', 'MADHAVARAM, CHENNAI 600 060.', 'INDIA', 'GST NO. 33AAGFA4722P2ZC', 'IEC.CODE: 0906007216', 'EMAIL ID : INFOATAMARORGANICS.COM', '', '3. PACKING LIST IN 1 ORIGINAL PLUS 2 COPIES.', '', '4, CERTIFICATE OF ORIGIN IN 1 ORIGINAL PLUS 2 COPIES.', '', '5. CERTIFICATE OF ANALYSIS IN DUPLICATE', '', '6. MARINE INSURANCE POLICY OR CERTIFICATE. FULL SET IN', 'NEGOTIABLE FORM IN THE CURRENCY OF THE CREDIT BLANK ENDORSED OR', 'ENDORSED TO CITIBANK NA., INDIA OR ORDER. COVERING 110 PCT OF', 'INVOICE VALUE. INSURANCE TO INCLUDE INSTITUTE CARGO CLAUSES (A),', 'INSTITUTE WAR CLAUSES (CARGO) AND INSTITUTE STRIKE CLAUSES', ' (CARGO) WITH CLAIMS PAYABLE IN INDIA. INSURANCE TO COVER FROM', \"SUPPLIERS WAREHOUSE TO APPLICANT'S WAREHOUSE.\", '', \"7. BENEFICIARY'S CERTIFICATE STATING THAT ONE SET OF\", 'NON-NEGOTIABLE DOCUMENTS HAVE BEEN SENT TO APPLICANT IMMEDIATELY', 'AFTER SHIPMENT BY E-MAIL TO INFO AT AMARORGANICS.COM', '+']\n"
     ]
    }
   ],
   "source": [
    "import unit_test\n",
    "imp.reload(logger)\n",
    "imp.reload(service)\n",
    "imp.reload(visionapi)\n",
    "imp.reload(formatter)\n",
    "imp.reload(evaluator)\n",
    "imp.reload(unit_test)\n",
    "imp.reload(augm)\n",
    "\n",
    "credential = '../../service_acc.json'\n",
    "# jpg_root = '../../local/src/jpg_root'\n",
    "jpg_root = './../../lc_files/20190102/jpgs'\n",
    "target_doc = None\n",
    "### 2018\n",
    "# jpg_root = './../../lc_files/20181218/jpgs'\n",
    "# target_doc = '83340002'\n",
    "### 2019\n",
    "# target_doc ='0003LC01183530021' ### 第一行為 Document Required 此為需要過濾掉的 - FIXED\n",
    "# target_doc = '0003LC01183580012' ### 同上 - FIXED\n",
    "# target_doc = 'DOC688276T4' ### - FIXED\n",
    "# target_doc = 'ILC1802381' ### 信用狀號碼辨識錯誤，原因是Vision API 判讀了兩次同一行字 - 跳過\n",
    "# target_doc = '0004FLC180147'  ### 信用狀雜訊過多，+ 辨識成 - 導致判讀錯誤 - 跳過\n",
    "# target_doc = '2534IMP000988018' ### 1. 有出現 B/L 的關鍵字 但實際上在講 B/L 是在第三點 - 跳過\n",
    "# target_doc = '36301009958L' ### missing 45A, used 45B 但總數會變兩倍 - 跳過\n",
    "# target_doc = 'DOAM050907' ### 付款條件目前只判斷 42C 但有時是在 42P - FIXED\n",
    "# target_doc = '381LC102345' ### 辨識失敗 格式位置相差太多 （需要做一下Image preprocessing 統一所有信用狀位置）- 跳過\n",
    "# target_doc = '0890018538IDS' ### Missing 44A value 未看到這問題 - FIXED?\n",
    "# target_doc = 'DOAM050904' ### 3-FOLD 增加 （\"-\"在 FOLD 的判斷）\n",
    "target_doc = '5655602089' ### 段落太複雜每一行都有 + 號 就算空白也有。 - 跳過\n",
    "# target_doc = '0013FLC180227' ### 增加Special case handler (處理 (ORGINAL PLUS COPY)) 因為沒有數字，因此當作各一份 - FIXED\n",
    "# target_doc = '003LC01183530001' ### 同 0003LC01183530021 - FIXED \n",
    "\n",
    "\n",
    "\n",
    "target_bank = \"\"\n",
    "# target_bank = 'wellsfargo'\n",
    "# target_bank = 'citi'\n",
    "unit_test.CLTestCases.runTestWithService(credential, jpg_root, target_bank, target_doc=target_doc)\n",
    "# unit_test.CLTestCases.runTestWithDir(jpg_root, target_bank, target_doc=target_doc, iteration=10)\n",
    "# unit_test.CLTestCases.runAndPrintTestWithDir(jpg_root, target_bank, target_doc=target_doc\n",
    "#                                              , save = True\n",
    "#                                              , iteration=10)\n"
   ]
  },
  {
   "cell_type": "code",
   "execution_count": 27,
   "metadata": {
    "collapsed": true,
    "scrolled": true
   },
   "outputs": [],
   "source": [
    "from PIL import Image, ImageDraw\n",
    "bounds = [\n",
    "    [130,770,930,1080]\n",
    "#     [133, 826, 908, 1049]\n",
    "#          [141.0, 410.0, 426.0, 441.0],\n",
    "#          [923.0, 572.0, 1463.0, 750.0],\n",
    "#          [127.0, 835.0, 723.0, 861.0],\n",
    "#          [135.0, 826.0, 740.0, 914.0]\n",
    "         ]\n",
    "img_path = './../../lc_files/20190102/jpgs/ILC1802381/page_1.jpg'\n",
    "image = Image.open(img_path)\n",
    "draw = ImageDraw.Draw(image)\n",
    "utils.draw_boxes(draw, bounds)\n",
    "image.save('stdout.png', \"PNG\")"
   ]
  },
  {
   "cell_type": "code",
   "execution_count": 341,
   "metadata": {},
   "outputs": [
    {
     "name": "stdout",
     "output_type": "stream",
     "text": [
      "<_sre.SRE_Match object; span=(0, 4), match='+1, '>\n"
     ]
    }
   ],
   "source": [
    "text_1 = \"+4, CERTIFICATE OF ORIGIN IN 1 ORIGINAL PLUS 2 COPIES.\\n\\n+5. CERTIFICATE OF ANALYSIS IN DUPLICATE\""
   ]
  },
  {
   "cell_type": "code",
   "execution_count": null,
   "metadata": {
    "collapsed": true
   },
   "outputs": [],
   "source": []
  },
  {
   "cell_type": "code",
   "execution_count": null,
   "metadata": {
    "collapsed": true
   },
   "outputs": [],
   "source": []
  },
  {
   "cell_type": "code",
   "execution_count": null,
   "metadata": {
    "collapsed": true
   },
   "outputs": [],
   "source": []
  }
 ],
 "metadata": {
  "kernelspec": {
   "display_name": "Python 3",
   "language": "python",
   "name": "python3"
  },
  "language_info": {
   "codemirror_mode": {
    "name": "ipython",
    "version": 3
   },
   "file_extension": ".py",
   "mimetype": "text/x-python",
   "name": "python",
   "nbconvert_exporter": "python",
   "pygments_lexer": "ipython3",
   "version": "3.6.5"
  }
 },
 "nbformat": 4,
 "nbformat_minor": 2
}
