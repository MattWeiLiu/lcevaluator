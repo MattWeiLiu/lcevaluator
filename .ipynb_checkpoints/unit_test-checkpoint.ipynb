{
 "cells": [
  {
   "cell_type": "code",
   "execution_count": 1,
   "metadata": {
    "collapsed": true
   },
   "outputs": [],
   "source": [
    "import imp, os, json, re\n",
    "import service\n",
    "import package.utils as utils\n",
    "import package.visionapi as visionapi\n",
    "import package.reformatter as formatter\n",
    "import package.evaluator as evaluator"
   ]
  },
  {
   "cell_type": "code",
   "execution_count": 3,
   "metadata": {},
   "outputs": [
    {
     "name": "stdout",
     "output_type": "stream",
     "text": [
      "[W] No image found in '../../local/src/jpg_root'\n",
      "[W] No image found in '../../local/src/jpg_root/chartered'\n",
      "[W] No image found in '../../local/src/jpg_root/citi'\n",
      "[I] Reading existed ocr response from ../../local/src/jpg_root/citi/201612HZML-160004FLCS00172/vision_result.json ...\n"
     ]
    },
    {
     "ename": "NameError",
     "evalue": "name 'checklist_info' is not defined",
     "output_type": "error",
     "traceback": [
      "\u001b[0;31m--------------------------------------------------------------------------\u001b[0m",
      "\u001b[0;31mNameError\u001b[0m                                Traceback (most recent call last)",
      "\u001b[0;32m<ipython-input-3-fe038af2324d>\u001b[0m in \u001b[0;36m<module>\u001b[0;34m()\u001b[0m\n\u001b[1;32m      9\u001b[0m \u001b[0;31m# target_doc ='201612YMIC-001LM01163500004'\u001b[0m\u001b[0;34m\u001b[0m\u001b[0;34m\u001b[0m\u001b[0m\n\u001b[1;32m     10\u001b[0m \u001b[0;34m\u001b[0m\u001b[0m\n\u001b[0;32m---> 11\u001b[0;31m \u001b[0munit_test\u001b[0m\u001b[0;34m.\u001b[0m\u001b[0mCLTestCases\u001b[0m\u001b[0;34m.\u001b[0m\u001b[0mrunTestWithService\u001b[0m\u001b[0;34m(\u001b[0m\u001b[0mcredential\u001b[0m\u001b[0;34m,\u001b[0m \u001b[0mjpg_root\u001b[0m\u001b[0;34m,\u001b[0m \u001b[0;34m'citi'\u001b[0m\u001b[0;34m,\u001b[0m \u001b[0mtarget_doc\u001b[0m\u001b[0;34m=\u001b[0m\u001b[0mtarget_doc\u001b[0m\u001b[0;34m)\u001b[0m\u001b[0;34m\u001b[0m\u001b[0m\n\u001b[0m\u001b[1;32m     12\u001b[0m \u001b[0;31m# unit_test.CLTestCases.runTestWithDir(jpg_root, 'citi', target_doc=target_doc)\u001b[0m\u001b[0;34m\u001b[0m\u001b[0;34m\u001b[0m\u001b[0m\n",
      "\u001b[0;32m~/Documents/career/cloudmile/cases/formosa_plastics/credit_letters/git/lcevaluator/unit_test.py\u001b[0m in \u001b[0;36mrunTestWithService\u001b[0;34m(credential, directory, target_bank, target_doc, save, iteration)\u001b[0m\n\u001b[1;32m     14\u001b[0m       \u001b[0mres_root\u001b[0m \u001b[0;34m=\u001b[0m \u001b[0mroot\u001b[0m\u001b[0;34m\u001b[0m\u001b[0m\n\u001b[1;32m     15\u001b[0m       \u001b[0;32mif\u001b[0m \u001b[0;32mnot\u001b[0m \u001b[0;34m'citi'\u001b[0m \u001b[0;32min\u001b[0m \u001b[0mroot\u001b[0m\u001b[0;34m:\u001b[0m \u001b[0;32mcontinue\u001b[0m\u001b[0;34m\u001b[0m\u001b[0m\n\u001b[0;32m---> 16\u001b[0;31m       \u001b[0mresult_info\u001b[0m \u001b[0;34m=\u001b[0m \u001b[0mservice\u001b[0m\u001b[0;34m.\u001b[0m\u001b[0mannotateCreditLetter\u001b[0m\u001b[0;34m(\u001b[0m\u001b[0mcredential\u001b[0m\u001b[0;34m,\u001b[0m \u001b[0;34m'0001'\u001b[0m\u001b[0;34m,\u001b[0m \u001b[0mjpg_list\u001b[0m\u001b[0;34m,\u001b[0m \u001b[0mroot\u001b[0m\u001b[0;34m)\u001b[0m\u001b[0;34m\u001b[0m\u001b[0m\n\u001b[0m\u001b[1;32m     17\u001b[0m       \u001b[0;32massert\u001b[0m \u001b[0;34m'header'\u001b[0m \u001b[0;32min\u001b[0m \u001b[0mresult_info\u001b[0m\u001b[0;34m,\u001b[0m \u001b[0;34m'[E] Missing header info in checklist'\u001b[0m\u001b[0;34m\u001b[0m\u001b[0m\n\u001b[1;32m     18\u001b[0m       \u001b[0;32massert\u001b[0m \u001b[0;34m'swifts'\u001b[0m \u001b[0;32min\u001b[0m \u001b[0mresult_info\u001b[0m\u001b[0;34m,\u001b[0m \u001b[0;34m'[E] Missing swifts info in checklist'\u001b[0m\u001b[0;34m\u001b[0m\u001b[0m\n",
      "\u001b[0;32m~/Documents/career/cloudmile/cases/formosa_plastics/credit_letters/git/lcevaluator/service.py\u001b[0m in \u001b[0;36mannotateCreditLetter\u001b[0;34m(credential, division_code, jpg_path_list, result_root, bank_name)\u001b[0m\n\u001b[1;32m     97\u001b[0m         \u001b[0;31m# adding prefix for C# aaplication (C# cannot read key starting with _ or numeric value)\u001b[0m\u001b[0;34m\u001b[0m\u001b[0;34m\u001b[0m\u001b[0m\n\u001b[1;32m     98\u001b[0m         \u001b[0mnewswift\u001b[0m \u001b[0;34m=\u001b[0m \u001b[0;34m{\u001b[0m\u001b[0;34m}\u001b[0m\u001b[0;34m\u001b[0m\u001b[0m\n\u001b[0;32m---> 99\u001b[0;31m         \u001b[0;32mfor\u001b[0m \u001b[0mkey\u001b[0m\u001b[0;34m,\u001b[0m \u001b[0mvalue\u001b[0m \u001b[0;32min\u001b[0m \u001b[0mfinal_result\u001b[0m\u001b[0;34m[\u001b[0m\u001b[0;34m'swifts'\u001b[0m\u001b[0;34m]\u001b[0m\u001b[0;34m.\u001b[0m\u001b[0mitems\u001b[0m\u001b[0;34m(\u001b[0m\u001b[0;34m)\u001b[0m\u001b[0;34m:\u001b[0m\u001b[0;34m\u001b[0m\u001b[0m\n\u001b[0m\u001b[1;32m    100\u001b[0m             \u001b[0mnewswift\u001b[0m\u001b[0;34m[\u001b[0m\u001b[0;34m'code_'\u001b[0m\u001b[0;34m+\u001b[0m\u001b[0mkey\u001b[0m\u001b[0;34m]\u001b[0m \u001b[0;34m=\u001b[0m \u001b[0mfinal_result\u001b[0m\u001b[0;34m[\u001b[0m\u001b[0;34m'swifts'\u001b[0m\u001b[0;34m]\u001b[0m\u001b[0;34m[\u001b[0m\u001b[0mkey\u001b[0m\u001b[0;34m]\u001b[0m\u001b[0;34m\u001b[0m\u001b[0m\n\u001b[1;32m    101\u001b[0m         \u001b[0mfinal_result\u001b[0m\u001b[0;34m[\u001b[0m\u001b[0;34m'swifts'\u001b[0m\u001b[0;34m]\u001b[0m \u001b[0;34m=\u001b[0m \u001b[0mnewswift\u001b[0m\u001b[0;34m\u001b[0m\u001b[0m\n",
      "\u001b[0;31mNameError\u001b[0m: name 'checklist_info' is not defined"
     ]
    }
   ],
   "source": [
    "import unit_test\n",
    "imp.reload(service)\n",
    "imp.reload(formatter)\n",
    "imp.reload(evaluator)\n",
    "imp.reload(unit_test)\n",
    "\n",
    "credential = '../../local/src/service_acc.json'\n",
    "jpg_root = '../../local/src/jpg_root'\n",
    "target_doc = None\n",
    "# target_doc ='201612YMIC-001LM01163500004'\n",
    "\n",
    "unit_test.CLTestCases.runTestWithService(credential, jpg_root, 'citi', target_doc=target_doc)\n",
    "# unit_test.CLTestCases.runTestWithDir(jpg_root, 'citi', target_doc=target_doc)"
   ]
  },
  {
   "cell_type": "code",
   "execution_count": null,
   "metadata": {
    "collapsed": true
   },
   "outputs": [],
   "source": []
  },
  {
   "cell_type": "code",
   "execution_count": null,
   "metadata": {
    "collapsed": true,
    "scrolled": true
   },
   "outputs": [],
   "source": []
  },
  {
   "cell_type": "code",
   "execution_count": null,
   "metadata": {
    "collapsed": true
   },
   "outputs": [],
   "source": []
  }
 ],
 "metadata": {
  "kernelspec": {
   "display_name": "Python 3",
   "language": "python",
   "name": "python3"
  },
  "language_info": {
   "codemirror_mode": {
    "name": "ipython",
    "version": 3
   },
   "file_extension": ".py",
   "mimetype": "text/x-python",
   "name": "python",
   "nbconvert_exporter": "python",
   "pygments_lexer": "ipython3",
   "version": "3.6.5"
  }
 },
 "nbformat": 4,
 "nbformat_minor": 2
}
