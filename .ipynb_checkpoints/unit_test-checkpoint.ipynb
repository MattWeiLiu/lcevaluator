{
 "cells": [
  {
   "cell_type": "code",
   "execution_count": 2,
   "metadata": {
    "collapsed": true
   },
   "outputs": [],
   "source": [
    "import imp, os, json, re\n",
    "import service\n",
    "import package.logger as logger\n",
    "import package.utils as utils\n",
    "import package.visionapi as visionapi\n",
    "import package.reformatter as formatter\n",
    "import package.evaluator as evaluator"
   ]
  },
  {
   "cell_type": "code",
   "execution_count": 4,
   "metadata": {},
   "outputs": [
    {
     "name": "stdout",
     "output_type": "stream",
     "text": [
      "[W] No image found in './../../lc_files/20181218_jpg'\n",
      "[W] No image found in './../../lc_files/20181218_jpg'\n",
      "[I] Evaluaing document for ./../../lc_files/20181218_jpg/469LC1183340002\n",
      "\n",
      "{\n",
      "  \"bill_of_lading\": {\n",
      "    \"original\": 3,\n",
      "    \"copies\": 3,\n",
      "    \"warn\": \"\",\n",
      "    \"text\": \"FULL SET OF CLEAN SHIPPED ON BOARD OCEAN BILL OF LADING (3 ORIGINAL AND 3 NON NEGOTIABLE COPY) MADE OUT TO THE ORDER OF HDFC BANK LTD., 88, CHOWRINGHEE ROAD, KOLKATA-700020, INDIA MARKED FREIGHT PREPAID AND NOTIFY A. THE APPLICANT WITH THEIR FULL ADDRESS. BILL OF LADING TO MENTION I/E CODE NO.0288010311, GST NO. 19AABCK2239D1ZT AND E-MAIL KOLKATA AT THE RATE KKALPANA.CO.IN\"\n",
      "  },\n",
      "  \"commercial_invoice\": {\n",
      "    \"original\": 3,\n",
      "    \"copies\": 0,\n",
      "    \"warn\": \"\",\n",
      "    \"text\": \"SIGNED COMMERCIAL INVOICE IN TRIPLICATE QUOTING THE I/E CODE NO.0288010311, PAN NO. AABCK2239D AND GST NO. 19AABCK2239D1ZT INDICATING IMPORT LICENSE COVERED UNDER FREELY IMPORTABLE CATEGORY OF NEW IMPORT EXPORT POLICY FOR THE YEAR 2015-2020.\"\n",
      "  },\n",
      "  \"packing_list\": {\n",
      "    \"original\": 3,\n",
      "    \"copies\": 0,\n",
      "    \"warn\": \"\",\n",
      "    \"text\": \"PACKING LIST IN TRIPLICATE EVIDENCING TOTAL GROSS AND NET WEIGHT. PACKING 25 KG. BAGS.\"\n",
      "  },\n",
      "  \"insurance_policy\": {\n",
      "    \"original\": 2,\n",
      "    \"copies\": 0,\n",
      "    \"warn\": \"\",\n",
      "    \"text\": \"FULL SET OF ORIGINAL INSURANCE POLICY OR CERTIFICATE FOR THE GOODS SHIPPED, ISSUED FOR 110 PERCENT OF INVOICE VALUE, COVERING RISKS AS PER INSTITUTE CARGO CLAUSES (A), INCLUDING RISKS OF WAR, STRIKES, RIOTS, CIVIL COMMOTION, THEFT, PILFERAGE AND NON DELIVERY WITH CLAIMS PAYABLE IN INDIA, IN THE CURRENCY OF THE CREDIT IRRESPECTIVE OF PERCENTAGE. TRANSHIPMENT RISK MUST BE COVERED IN CASE GOODS ARE SUBJECT TO TRANSHIPMENT. CLAIM SETTLING AGENTS NAME AND ADDRESS IN INDIA SHOULD BE INDICATED IN THE POLICY OR CERTIFICATE. INSURANCE MUST BE COVERED FROM BENEFICIARY'S WAREHOUSE TO APPLICANTS WAREHOUSE.\"\n",
      "  },\n",
      "  \"customs_invoice\": {\n",
      "    \"original\": 0,\n",
      "    \"copies\": 0,\n",
      "    \"warn\": \"\",\n",
      "    \"text\": \"\"\n",
      "  },\n",
      "  \"consular_invoice\": {\n",
      "    \"original\": 0,\n",
      "    \"copies\": 0,\n",
      "    \"warn\": \"\",\n",
      "    \"text\": \"\"\n",
      "  },\n",
      "  \"certificate_of_origin\": {\n",
      "    \"original\": 2,\n",
      "    \"copies\": 0,\n",
      "    \"warn\": \"\",\n",
      "    \"text\": \"CERTIFICATE OF ORIGIN IN DUPLICATE ISSUED BY THE CHAMBER OF COMMERCE\"\n",
      "  },\n",
      "  \"inspection_certificate\": {\n",
      "    \"original\": 2,\n",
      "    \"copies\": 0,\n",
      "    \"warn\": \"\",\n",
      "    \"text\": \"CERTIFICATE OF ANALYSIS IN DUPLICATE.\"\n",
      "  },\n",
      "  \"importer\": {\n",
      "    \"original\": 0,\n",
      "    \"copies\": 0,\n",
      "    \"warn\": \"\",\n",
      "    \"text\": \"\"\n",
      "  },\n",
      "  \"weight_list\": {\n",
      "    \"original\": 0,\n",
      "    \"copies\": 0,\n",
      "    \"warn\": \"\",\n",
      "    \"text\": \"\"\n",
      "  },\n",
      "  \"remained\": [\n",
      "    \"CERTIFICATE FROM THE SHIPPING COMPANY OR CARRIER OR ITS AGENT TO THE EFFECT THAT THE CARRYING VESSEL IS CLASSIFIED BY AN APPROVED CLASSIFICATION SOCIETY AS PER INSTITUTE CLASSIFICATION CLAUSES AND ITS CLASSIFIED AS PER LLOYDS 100 A1 OR ITS EQUIVALENT CLASSIFICATION AND THE VESSEL IS NOT MORE THAN 25 YEARS OLD AND IS SEAWORTHY,\",\n",
      "    \"SHIPPING COMPANY OR CARRIER OR THEIR AGENT TO ALLOW 14 DAYS CONTAINER DETENTION CHARGES FREE AT PORT OF DISCHARGE TO BE MENTIONED ON BILL OF LADING OR A CERTIFICATE TO THIS EFFECT WILL BE REQUIRED.\\b\"\n",
      "  ]\n",
      "}\n"
     ]
    }
   ],
   "source": [
    "import unit_test\n",
    "imp.reload(logger)\n",
    "imp.reload(service)\n",
    "imp.reload(visionapi)\n",
    "imp.reload(formatter)\n",
    "imp.reload(evaluator)\n",
    "imp.reload(unit_test)\n",
    "\n",
    "credential = '../../service_acc.json'\n",
    "# jpg_root = '../../local/src/jpg_root'\n",
    "jpg_root = './../../lc_files/20181218_jpg'\n",
    "target_doc = None\n",
    "# target_doc ='201612YMIC-001LM01163500004'\n",
    "# target_doc = 'MX-M314N_20180706_151920'\n",
    "# target_doc = 'MX-M314N_20180906_151625'\n",
    "# target_doc = '469LC1183340002'\n",
    "# target_doc = '183330002'\n",
    "# target_doc = '180023'\n",
    "# target_doc = '81800066'\n",
    "# target_doc = '0005180014167'\n",
    "# target_doc = '0402018'\n",
    "# target_doc = '01181760014'\n",
    "# target_doc = '001006318' ## still have problem (few words missing in result of Vision API )\n",
    "# target_doc = '169010043416'\n",
    "# target_doc = '1045000820118'\n",
    "target_bank = \"\"\n",
    "# target_bank = 'wellsfargo'\n",
    "# target_bank = 'citi'\n",
    "unit_test.CLTestCases.runTestWithService(credential, jpg_root, target_bank, target_doc=target_doc)\n",
    "# unit_test.CLTestCases.runTestWithDir(jpg_root, target_bank, target_doc=target_doc, iteration=10)\n",
    "unit_test.CLTestCases.runAndPrintTestWithDir(jpg_root, target_bank, target_doc=target_doc\n",
    "                                             , save = True\n",
    "                                             , iteration=10)\n"
   ]
  },
  {
   "cell_type": "code",
   "execution_count": null,
   "metadata": {
    "collapsed": true
   },
   "outputs": [],
   "source": []
  },
  {
   "cell_type": "code",
   "execution_count": null,
   "metadata": {
    "collapsed": true,
    "scrolled": true
   },
   "outputs": [],
   "source": []
  },
  {
   "cell_type": "code",
   "execution_count": null,
   "metadata": {
    "collapsed": true
   },
   "outputs": [],
   "source": []
  },
  {
   "cell_type": "code",
   "execution_count": null,
   "metadata": {
    "collapsed": true
   },
   "outputs": [],
   "source": []
  },
  {
   "cell_type": "code",
   "execution_count": null,
   "metadata": {
    "collapsed": true
   },
   "outputs": [],
   "source": []
  },
  {
   "cell_type": "code",
   "execution_count": null,
   "metadata": {
    "collapsed": true
   },
   "outputs": [],
   "source": []
  }
 ],
 "metadata": {
  "kernelspec": {
   "display_name": "Python 3",
   "language": "python",
   "name": "python3"
  },
  "language_info": {
   "codemirror_mode": {
    "name": "ipython",
    "version": 3
   },
   "file_extension": ".py",
   "mimetype": "text/x-python",
   "name": "python",
   "nbconvert_exporter": "python",
   "pygments_lexer": "ipython3",
   "version": "3.6.5"
  }
 },
 "nbformat": 4,
 "nbformat_minor": 2
}
