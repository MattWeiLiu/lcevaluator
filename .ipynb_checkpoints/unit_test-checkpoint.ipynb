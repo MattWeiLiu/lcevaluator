{
 "cells": [
  {
   "cell_type": "code",
   "execution_count": 1,
   "metadata": {
    "collapsed": true
   },
   "outputs": [],
   "source": [
    "import imp, os, json, re\n",
    "import service\n",
    "import package.logger as logger\n",
    "import package.utils as utils\n",
    "import package.visionapi as visionapi\n",
    "import package.reformatter as formatter\n",
    "import package.evaluator as evaluator"
   ]
  },
  {
   "cell_type": "code",
   "execution_count": 132,
   "metadata": {},
   "outputs": [
    {
     "name": "stdout",
     "output_type": "stream",
     "text": [
      "[W] No image found in './../../lc_files/20181218_jpg'\n",
      "[I] Evaluaing document for ./../../lc_files/20181218_jpg/169010043416\n",
      "\n",
      "{\n",
      "  \"bill_of_lading\": {\n",
      "    \"original\": 3,\n",
      "    \"copies\": 3,\n",
      "    \"warn\": \"\",\n",
      "    \"text\": \"FULL SET (3/3) OF ORIGINAL CLEAN ON BOARD OCEAN BILLS OF LADING PLUS 3 NON-NEGOTIABLE COPIES, MADE OUT TO WALAMBIA PLASTICS P. LTD., NEW ATUL ENGINEERING COMPOUND, GOGATE WADI, OFF, AAREY ROAD, GOREGAON (EAST) MUMBAI-400063, MAHARASHTRA, INDIA, GSTIN 27AABCW4571G127 IEC CODE 0314026258, E-MAIL: IMPORTS.WALAMBIA (AT)GMAIL.COM, MARKED FREIGHT PREPAID, SHOWING 'FORMOSA PLASTICS CORPORATION' AS SHIPPER, NOTIFY PARTY WALAMBIA PLASTICS P. LTD., NEW ATUL ENGINEERING COMPOUND, GOGATE WADI, OFF. AAREY ROAD, GOREGAON (EAST) MUMBAI -400063, MAHARASHTRA, INDIA, GSTIN 27AABCW4571G127 IEC CODE 0314026258, E-MAIL: IMPORTS.WALAMBIA (AT)GMAIL.COM AND GOODS DESCRIPTION SHOW: PVC RESIN S-65D. B/L OR A CERTIFICATE FROM SHIPPING CO. OR THEIR AGENT TO STATE 14 DAYS DETENTION FREE PERIOD AT FINAL DESTINATION.\"\n",
      "  },\n",
      "  \"commercial_invoice\": {\n",
      "    \"original\": 4,\n",
      "    \"copies\": 0,\n",
      "    \"warn\": \"\",\n",
      "    \"text\": \"SIGNED COMMERCIAL INVOICE IN QUADPLICATE.\"\n",
      "  },\n",
      "  \"packing_list\": {\n",
      "    \"original\": 4,\n",
      "    \"copies\": 0,\n",
      "    \"warn\": \"\",\n",
      "    \"text\": \"SIGNED PACKING LIST IN QUADPLICATE.\"\n",
      "  },\n",
      "  \"insurance_policy\": {\n",
      "    \"original\": 2,\n",
      "    \"copies\": 0,\n",
      "    \"warn\": \"\",\n",
      "    \"text\": \"MARINE INSURANCE POLICY OR CERTIFICATE IN DUPLICATE ENDORSED IN BLANK FOR FULL CIF VALUE PLUS MIN. 10 PCT COVERING INSTITUTE CARGO CLAUSE (A), INSTITUTE WAR CLAUSES (CARGO), INSTITUTE STRIKES CLAUSES (CARGO), COVERING ALL RISK INCLUDING SRCC FROM WAREHOUSE TO WAREHOUSE AND SHOWING CLAIMS PAYABLE AT DESTINATION IN THE SAME CURRENCY OF THIS CREDIT.\"\n",
      "  },\n",
      "  \"customs_invoice\": {\n",
      "    \"original\": 0,\n",
      "    \"copies\": 0,\n",
      "    \"warn\": \"\",\n",
      "    \"text\": \"\"\n",
      "  },\n",
      "  \"consular_invoice\": {\n",
      "    \"original\": 0,\n",
      "    \"copies\": 0,\n",
      "    \"warn\": \"\",\n",
      "    \"text\": \"\"\n",
      "  },\n",
      "  \"certificate_of_origin\": {\n",
      "    \"original\": 1,\n",
      "    \"copies\": 3,\n",
      "    \"warn\": \"\",\n",
      "    \"text\": \"CERTIFICATE OF ORIGIN 1 ORIGINAL AND 3 COPIES ISSUED BY CHAMBER OF COMMERCE IN COUNTRY OF THE GOODS AND SHOWING EXPORTER AS 'FORMOSA PLASTICS CORPORATION' ONLY. GOODS DESCRIPTION MUST BE SAME AS B/L, IMPORTER'S NAME AND ADDRESS MUST BE SAME AS NOTIFY PARTY OF B/L.\"\n",
      "  },\n",
      "  \"inspection_certificate\": {\n",
      "    \"original\": 1,\n",
      "    \"copies\": 0,\n",
      "    \"warn\": \"[W] 無法辨識數量，預設為 1 正本\",\n",
      "    \"text\": \"CERTIFICATE OF ANALYSIS MUST MENTIONED: CONTENTS OF GRADE, TEST METHOD, ITEM, QUANTITY AND LOT NUMBER ISSUED BY MANUFACTURER.\\b\"\n",
      "  },\n",
      "  \"importer\": {\n",
      "    \"original\": 0,\n",
      "    \"copies\": 0,\n",
      "    \"warn\": \"\",\n",
      "    \"text\": \"\"\n",
      "  },\n",
      "  \"weight_list\": {\n",
      "    \"original\": 0,\n",
      "    \"copies\": 0,\n",
      "    \"warn\": \"\",\n",
      "    \"text\": \"\"\n",
      "  },\n",
      "  \"remained\": []\n",
      "}\n"
     ]
    }
   ],
   "source": [
    "import unit_test\n",
    "imp.reload(logger)\n",
    "imp.reload(service)\n",
    "imp.reload(visionapi)\n",
    "imp.reload(formatter)\n",
    "imp.reload(evaluator)\n",
    "imp.reload(unit_test)\n",
    "\n",
    "credential = '../../service_acc.json'\n",
    "# jpg_root = '../../local/src/jpg_root'\n",
    "jpg_root = './../../lc_files/20181218_jpg'\n",
    "target_doc = None\n",
    "# target_doc ='201612YMIC-001LM01163500004'\n",
    "# target_doc = 'MX-M314N_20180706_151920'\n",
    "# target_doc = 'MX-M314N_20180906_151625'\n",
    "# target_doc = '469LC1183340002'\n",
    "# target_doc = '183330002'\n",
    "# target_doc = '180023'\n",
    "# target_doc = '81800066'\n",
    "# target_doc = '0005180014167'\n",
    "# target_doc = '0402018'\n",
    "# target_doc = '01181760014'\n",
    "# target_doc = '001006318' ## still have problem (few words missing in result of Vision API )\n",
    "# target_doc = '169010043416'\n",
    "target_doc = '1045000820118'\n",
    "target_bank = \"\"\n",
    "# target_bank = 'wellsfargo'\n",
    "# target_bank = 'citi'\n",
    "# unit_test.CLTestCases.runTestWithService(credential, jpg_root, target_bank, target_doc=target_doc)\n",
    "# unit_test.CLTestCases.runTestWithDir(jpg_root, target_bank, target_doc=target_doc, iteration=10)\n",
    "unit_test.CLTestCases.runAndPrintTestWithDir(jpg_root, target_bank, target_doc=target_doc\n",
    "                                             , save = True\n",
    "                                             , iteration=10)\n"
   ]
  },
  {
   "cell_type": "code",
   "execution_count": null,
   "metadata": {},
   "outputs": [],
   "source": []
  },
  {
   "cell_type": "code",
   "execution_count": null,
   "metadata": {
    "scrolled": true
   },
   "outputs": [],
   "source": []
  },
  {
   "cell_type": "code",
   "execution_count": null,
   "metadata": {},
   "outputs": [],
   "source": []
  },
  {
   "cell_type": "code",
   "execution_count": null,
   "metadata": {},
   "outputs": [],
   "source": []
  },
  {
   "cell_type": "code",
   "execution_count": null,
   "metadata": {
    "collapsed": true
   },
   "outputs": [],
   "source": []
  },
  {
   "cell_type": "code",
   "execution_count": null,
   "metadata": {
    "collapsed": true
   },
   "outputs": [],
   "source": []
  }
 ],
 "metadata": {
  "kernelspec": {
   "display_name": "Python 3",
   "language": "python",
   "name": "python3"
  },
  "language_info": {
   "codemirror_mode": {
    "name": "ipython",
    "version": 3
   },
   "file_extension": ".py",
   "mimetype": "text/x-python",
   "name": "python",
   "nbconvert_exporter": "python",
   "pygments_lexer": "ipython3",
   "version": "3.6.5"
  }
 },
 "nbformat": 4,
 "nbformat_minor": 2
}
