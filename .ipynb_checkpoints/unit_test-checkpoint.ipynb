{
 "cells": [
  {
   "cell_type": "code",
   "execution_count": 1,
   "metadata": {
    "collapsed": true
   },
   "outputs": [],
   "source": [
    "import imp, os, json, re\n",
    "import service\n",
    "import package.logger as logger\n",
    "import package.utils as utils\n",
    "import package.visionapi as visionapi\n",
    "import package.reformatter as formatter\n",
    "import package.evaluator as evaluator\n",
    "import package.augmentation as augm"
   ]
  },
  {
   "cell_type": "code",
   "execution_count": 4,
   "metadata": {},
   "outputs": [
    {
     "name": "stdout",
     "output_type": "stream",
     "text": [
      "[W] No image found in './../../lc_files/20181218_jpg'\n",
      "[I] Evaluaing document for ./../../lc_files/20181218_jpg/2551FLC0402018\n",
      "\n",
      "{\n",
      "  \"descrption\": \"PVC RESIN\",\n",
      "  \"quantity\": [\n",
      "    \"216\",\n",
      "    \"70\",\n",
      "    \"32\",\n",
      "    \"32\",\n",
      "    \"262.5\"\n",
      "  ],\n",
      "  \"amount\": \"USD594707,5\",\n",
      "  \"terms\": \"CIF\",\n",
      "  \"insurance\": \"[W] 保險指示: CIF 需要再從 Document Req 中確認一致性\"\n",
      "}\n"
     ]
    }
   ],
   "source": [
    "import unit_test\n",
    "imp.reload(logger)\n",
    "imp.reload(service)\n",
    "imp.reload(visionapi)\n",
    "imp.reload(formatter)\n",
    "imp.reload(evaluator)\n",
    "imp.reload(unit_test)\n",
    "imp.reload(augm)\n",
    "\n",
    "credential = '../../service_acc.json'\n",
    "# jpg_root = '../../local/src/jpg_root'\n",
    "jpg_root = './../../lc_files/20181218_jpg'\n",
    "target_doc = None\n",
    "# target_doc ='201612YMIC-001LM01163500004'\n",
    "# target_doc = 'MX-M314N_20180706_151920'\n",
    "# target_doc = 'MX-M314N_20180906_151625'\n",
    "# target_doc = '469LC1183340002'\n",
    "# target_doc = '183330002'\n",
    "# target_doc = '180023'\n",
    "# target_doc = '81800066'\n",
    "# target_doc = '0005180014167'\n",
    "target_doc = '0402018'\n",
    "# target_doc = '01181760014'\n",
    "# target_doc = '001006318' ## still have problem (few words missing in result of Vision API )\n",
    "# target_doc = '169010043416'\n",
    "# target_doc = '1045000820118'\n",
    "target_bank = \"\"\n",
    "# target_bank = 'wellsfargo'\n",
    "# target_bank = 'citi'\n",
    "# unit_test.CLTestCases.runTestWithService(credential, jpg_root, target_bank, target_doc=target_doc)\n",
    "# unit_test.CLTestCases.runTestWithDir(jpg_root, target_bank, target_doc=target_doc, iteration=10)\n",
    "unit_test.CLTestCases.runAndPrintTestWithDir(jpg_root, target_bank, target_doc=target_doc\n",
    "                                             , save = True\n",
    "                                             , iteration=10)\n"
   ]
  },
  {
   "cell_type": "code",
   "execution_count": null,
   "metadata": {
    "collapsed": true
   },
   "outputs": [],
   "source": []
  },
  {
   "cell_type": "code",
   "execution_count": null,
   "metadata": {
    "collapsed": true,
    "scrolled": true
   },
   "outputs": [],
   "source": []
  },
  {
   "cell_type": "code",
   "execution_count": null,
   "metadata": {
    "collapsed": true
   },
   "outputs": [],
   "source": []
  },
  {
   "cell_type": "code",
   "execution_count": null,
   "metadata": {
    "collapsed": true
   },
   "outputs": [],
   "source": []
  },
  {
   "cell_type": "code",
   "execution_count": null,
   "metadata": {
    "collapsed": true
   },
   "outputs": [],
   "source": []
  },
  {
   "cell_type": "code",
   "execution_count": null,
   "metadata": {
    "collapsed": true
   },
   "outputs": [],
   "source": []
  }
 ],
 "metadata": {
  "kernelspec": {
   "display_name": "Python 3",
   "language": "python",
   "name": "python3"
  },
  "language_info": {
   "codemirror_mode": {
    "name": "ipython",
    "version": 3
   },
   "file_extension": ".py",
   "mimetype": "text/x-python",
   "name": "python",
   "nbconvert_exporter": "python",
   "pygments_lexer": "ipython3",
   "version": "3.6.5"
  }
 },
 "nbformat": 4,
 "nbformat_minor": 2
}
