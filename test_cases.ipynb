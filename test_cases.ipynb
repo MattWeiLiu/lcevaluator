{
 "cells": [
  {
   "cell_type": "code",
   "execution_count": 1,
   "metadata": {
    "collapsed": true
   },
   "outputs": [],
   "source": [
    "import imp, os, json, re\n",
    "import service\n",
    "import package.logger as logger\n",
    "import package.utils as utils\n",
    "import package.visionapi as visionapi\n",
    "import package.reformatter as formatter\n",
    "import package.evaluator as evaluator\n",
    "import package.augmentation as augm"
   ]
  },
  {
   "cell_type": "code",
   "execution_count": 2,
   "metadata": {},
   "outputs": [
    {
     "name": "stdout",
     "output_type": "stream",
     "text": [
      "5. FULL SURVEY REPORT ISSUED BY INDEPENDENT SURVEYOR IN 1\n",
      "ORIGINAL AND 1 COPY, INCLUDING:\n",
      "CERTIFICATE OF QUANTITY/WEIGHT\n",
      "CERTIFICATE OF QUALITY\n",
      "CERTIFICATE OF VESSEL TANK'S CLEANLINESS\n",
      "ULLAGE REPORT\n",
      "TIME LOG\n",
      "\n"
     ]
    }
   ],
   "source": [
    "text_1 = \"\"\"1 BENEFICIARYS DRAFT IN DUPLICATE PAYABLE AT 90 DAYS FROM BILL OF LADING DATE FOR INVOICE VALUE OF GOODS SHIPPED QUOTING LC NO. 2534IMPO00988018 AND DATE 19/06/2018.\n",
    "3. FULL SET, SIGNED, CLEAN ON BOARD OCEAN BILLS OF LADING MADE OUT TO ORDER OF BANK OF BARODA, CFS PUNE, 39, MANTRI COURT, B. R. AMBEDKAR ROAD, NEAR OLD RTO OFFICE, PUNE-411001, MAHARASHTRA, INDIA MARKED FREIGHT PREPAID AND NOTIFY APPLICANT SUSHILA PARMAR INTERNATIONAL PVT LTD 31, SHREE ADINATH SHOPPING CENTRE PUNE SATARA ROAD, PUNE-411037.\"\n",
    "\"\"\"\n",
    "text_2 = \"\"\"5. FULL SURVEY REPORT ISSUED BY INDEPENDENT SURVEYOR IN 1\\nORIGINAL AND 1 COPY, INCLUDING:\\nCERTIFICATE OF QUANTITY/WEIGHT\\nCERTIFICATE OF QUALITY\\nCERTIFICATE OF VESSEL TANK'S CLEANLINESS\\nULLAGE REPORT\\nTIME LOG\\n\"\"\"\n",
    "print(text_2)"
   ]
  },
  {
   "cell_type": "code",
   "execution_count": 3,
   "metadata": {},
   "outputs": [],
   "source": [
    "config = utils.loadFileIfExisted('./configs/general.yaml')\n",
    "req_docs = config['req_docs']\n",
    "req_items = req_docs['items']\n",
    "paragraph_pat = req_docs['paragraph_patterns']\n",
    "quantity_pat = req_docs['quantity_patterns']"
   ]
  },
  {
   "cell_type": "code",
   "execution_count": 4,
   "metadata": {},
   "outputs": [
    {
     "name": "stdout",
     "output_type": "stream",
     "text": [
      "['weight_list'] [[0, 0]]\n",
      "['inspection_certificate'] [[0, 0]]\n",
      "{}\n"
     ]
    }
   ],
   "source": [
    "def testing_extraction(splitted, req_items):\n",
    "    res_req_docs = {}\n",
    "    for idx, line in enumerate(splitted):\n",
    "        catched_list = []\n",
    "        remained = []\n",
    "        default_org = 0\n",
    "        default_cop = 0\n",
    "        for item in req_items:\n",
    "            cur_key_name = item['name']\n",
    "            cur_key_list = item['keys']\n",
    "            for k in cur_key_list:\n",
    "                contained = k.upper() in line.upper()\n",
    "                if contained:\n",
    "                    catched_list.append(cur_key_name)\n",
    "                    break\n",
    "                    \n",
    "        if len(catched_list) == 0:\n",
    "            remained.append(line)\n",
    "        else:\n",
    "            quantity_list = []\n",
    "            for cur_key_name in catched_list:\n",
    "                target_line = line\n",
    "                target_line = utils.text2number(target_line)\n",
    "                target_line = evaluator.replaceDuplicates(target_line)\n",
    "                target_line = evaluator.replaceFullset(target_line, cur_key_name)\n",
    "                target_line = evaluator.replaceSpecialCase(target_line)\n",
    "                org_res, cop_res = evaluator.detect_quantity_with_patterns(target_line, quantity_pat['original'], quantity_pat['copy'], quantity_pat['fold'])\n",
    "                quantity_list.append([org_res, cop_res])\n",
    "    \n",
    "            print(catched_list, quantity_list)\n",
    "    return res_req_docs\n",
    "        \n",
    "splitted = re.split(r'\\n', text_2)\n",
    "res = testing_extraction(splitted, req_items)\n",
    "print(json.dumps(res, indent=2))"
   ]
  },
  {
   "cell_type": "code",
   "execution_count": null,
   "metadata": {
    "collapsed": true
   },
   "outputs": [],
   "source": []
  },
  {
   "cell_type": "code",
   "execution_count": null,
   "metadata": {
    "collapsed": true
   },
   "outputs": [],
   "source": []
  }
 ],
 "metadata": {
  "kernelspec": {
   "display_name": "Python 3",
   "language": "python",
   "name": "python3"
  },
  "language_info": {
   "codemirror_mode": {
    "name": "ipython",
    "version": 3
   },
   "file_extension": ".py",
   "mimetype": "text/x-python",
   "name": "python",
   "nbconvert_exporter": "python",
   "pygments_lexer": "ipython3",
   "version": "3.6.5"
  }
 },
 "nbformat": 4,
 "nbformat_minor": 2
}
