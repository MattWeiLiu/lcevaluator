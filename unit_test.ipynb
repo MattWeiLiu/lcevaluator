{
 "cells": [
  {
   "cell_type": "code",
   "execution_count": 1,
   "metadata": {
    "collapsed": true
   },
   "outputs": [],
   "source": [
    "import imp, os, json, re\n",
    "import service\n",
    "import package.utils as utils\n",
    "import package.visionapi as visionapi\n",
    "import package.reformatter as formatter\n",
    "import package.evaluator as evaluator"
   ]
  },
  {
   "cell_type": "code",
   "execution_count": 71,
   "metadata": {},
   "outputs": [
    {
     "name": "stdout",
     "output_type": "stream",
     "text": [
      "[W] No image found in '../../local/src/jpg_root'\n",
      "[W] No image found in '../../local/src/jpg_root/chartered'\n",
      "[W] No image found in '../../local/src/jpg_root/citi'\n",
      "[W] No image found in '../../local/src/jpg_root/huanan'\n",
      "[W] No image found in '../../local/src/jpg_root/mega'\n",
      "[W] No image found in '../../local/src/jpg_root/wellsfargo'\n",
      "../../local/src/jpg_root/wellsfargo/MX-M314N_20180906_151427\n",
      "[W] Swift code 10 is not in the config file. Content: 310 : Date of Issue\n",
      "| 180726\n",
      "410 : Available With ... By ...\n",
      "WELLS FARGO BANK, N.A., TAIPEI BRAN\n",
      "CH TAIPEI TW\n",
      "BY NEGOTIATIO\n",
      "[W] Swift code 40 is not in the config file. Content: 440 : Latest Date of Shipment\n",
      "18082\n",
      "../../local/src/jpg_root/wellsfargo/MX-M314N_20180906_151625\n",
      "[E] While opening file at ./configs/unknown_config.yaml. error:[Errno 2] No such file or directory: './configs/unknown_config.yaml'\n",
      "../../local/src/jpg_root/wellsfargo/MX-M314N_20180906_152120\n",
      "[W] Swift code 10 is not in the config file. Content: 310 : Date of Issue\n",
      "18060\n",
      "[W] Swift code 31E is not in the config file. Content: 31E : New Date of Expiry\n",
      "18073\n",
      "[W] Swift code 10 is not in the config file. Content: 310 : Date of Issue\n",
      "18060\n",
      "[W] Swift code 47 is not in the config file. Content: 447 : Port of Discharge/Airport of Destination\n",
      "PIPAVAV PORT, INDI\n",
      "[W] Swift code 40 is not in the config file. Content: 440 : Latest Date of Shipment\n",
      "18062\n",
      "{\n",
      "  \"Total docs\": 3,\n",
      "  \"Bill of lading\": \"0/3 = 1.0%\",\n",
      "  \"Commercial invoice\": \"0/3 = 1.0%\",\n",
      "  \"Packing list\": \"0/3 = 1.0%\",\n",
      "  \"Other errors\": \"1/3 = 0.6666666666666667%\",\n",
      "  \"Failed documents\": \"1\"\n",
      "}\n"
     ]
    }
   ],
   "source": [
    "import unit_test\n",
    "imp.reload(service)\n",
    "imp.reload(visionapi)\n",
    "imp.reload(formatter)\n",
    "imp.reload(evaluator)\n",
    "imp.reload(unit_test)\n",
    "\n",
    "credential = '../../local/src/service_acc.json'\n",
    "jpg_root = '../../local/src/jpg_root'\n",
    "target_doc = None\n",
    "# target_doc ='201612YMIC-001LM01163500004'\n",
    "# target_doc = 'MX-M314N_20180705_144122'\n",
    "# target_doc = 'MX-M314N_20180906_151625'\n",
    "# target_doc = 'MX-M314N_20180907_113407'\n",
    "target_bank = 'wellsfargo'\n",
    "# unit_test.CLTestCases.runTestWithService(credential, jpg_root, target_bank, target_doc=target_doc)\n",
    "unit_test.CLTestCases.runTestWithDir(jpg_root, target_bank, target_doc=target_doc, iteration=-1)"
   ]
  },
  {
   "cell_type": "code",
   "execution_count": null,
   "metadata": {
    "collapsed": true
   },
   "outputs": [],
   "source": []
  },
  {
   "cell_type": "code",
   "execution_count": null,
   "metadata": {
    "collapsed": true,
    "scrolled": true
   },
   "outputs": [],
   "source": []
  },
  {
   "cell_type": "code",
   "execution_count": null,
   "metadata": {
    "collapsed": true
   },
   "outputs": [],
   "source": []
  }
 ],
 "metadata": {
  "kernelspec": {
   "display_name": "Python 3",
   "language": "python",
   "name": "python3"
  },
  "language_info": {
   "codemirror_mode": {
    "name": "ipython",
    "version": 3
   },
   "file_extension": ".py",
   "mimetype": "text/x-python",
   "name": "python",
   "nbconvert_exporter": "python",
   "pygments_lexer": "ipython3",
   "version": "3.6.5"
  }
 },
 "nbformat": 4,
 "nbformat_minor": 2
}
