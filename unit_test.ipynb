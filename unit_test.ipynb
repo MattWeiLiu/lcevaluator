{
 "cells": [
  {
   "cell_type": "code",
   "execution_count": 2,
   "metadata": {
    "collapsed": true
   },
   "outputs": [],
   "source": [
    "import imp, os, json, re\n",
    "import service\n",
    "import package.logger as logger\n",
    "import package.utils as utils\n",
    "import package.visionapi as visionapi\n",
    "import package.reformatter as formatter\n",
    "import package.evaluator as evaluator"
   ]
  },
  {
   "cell_type": "code",
   "execution_count": 3,
   "metadata": {},
   "outputs": [
    {
     "name": "stdout",
     "output_type": "stream",
     "text": [
      "[W] No image found in './../../lc_files/20181218_jpg'\n",
      "[W] No image found in './../../lc_files/20181218_jpg'\n",
      "[I] Evaluaing document for ./../../lc_files/20181218_jpg/1045000820118\n",
      "\n",
      "{\n",
      "  \"bill_of_lading\": {\n",
      "    \"original\": 3,\n",
      "    \"copies\": 0,\n",
      "    \"warn\": \"\",\n",
      "    \"text\": \"FULL SET OF CLEAN ON BOARD OCEANBILL OF LADING MADE OUT TO THE ORDER OF ORIENTAL BANK OF COMMERCE BANDRA, MUMBAI, MARKED FREIGHT PREPAID AND NOTIFY APPLICANT BEARING LETTER OF CREDIT NUMBER AND DATE. SHORT FORM BILL OF LADING IS NOT ACCEPTABLE.\"\n",
      "  },\n",
      "  \"commercial_invoice\": {\n",
      "    \"original\": 3,\n",
      "    \"copies\": 0,\n",
      "    \"warn\": \"\",\n",
      "    \"text\": \"SIGNED COMMERCIAL INVOICE IN TRIPLICATE FOR A VALUE NOT EXCEEDING LC AMOUNT QUOTING IMPORT UNDER OPEN GENERAL LICENSE AND CERTIFYING THAT THE GOODS ARE AS PER THE PROFORMA INVOICE OF THE BENEFICIARY.\"\n",
      "  },\n",
      "  \"packing_list\": {\n",
      "    \"original\": 0,\n",
      "    \"copies\": 3,\n",
      "    \"warn\": \"\",\n",
      "    \"text\": \"DETAILED SIGNED PACKING LIST IN THREE COPIES.\"\n",
      "  },\n",
      "  \"insurance_policy\": {\n",
      "    \"original\": 1,\n",
      "    \"copies\": 0,\n",
      "    \"warn\": \"[W] 無法辨識數量，預設為 1 正本\",\n",
      "    \"text\": \"MARINE INSURANCE POLICY DATED NOT LATER THAN DATE OF BILL OF LADING DATE MADE UNTO ORDER AND BLANK ENDORSED FOR 110 PERCENT OF THE INVOICE VALUE, COVERING INSTITUTE CARGO CLAUSE (A), INSTITUTE WARCLAUSE (CARGO) AND INSTITUTE STRIKE CLAUSE (CARG WITH CLAIMS PAYABLE IN INDIAIN THE SAME CURRENCY AS THAT OF DRAFT IRRESPECTIVE OF PERCENTAGE. TRANSHIPMENTRISKS MUST BE COVERED IF THE GOODS ARE SUBJECT TOTRANSHIPMENT. INSURANCE POLICY MUST MENTION NAME AND ADDRESS OF THE SETTLING AGENT IN INDIA.\\b\"\n",
      "  },\n",
      "  \"customs_invoice\": {\n",
      "    \"original\": 0,\n",
      "    \"copies\": 0,\n",
      "    \"warn\": \"\",\n",
      "    \"text\": \"\"\n",
      "  },\n",
      "  \"consular_invoice\": {\n",
      "    \"original\": 0,\n",
      "    \"copies\": 0,\n",
      "    \"warn\": \"\",\n",
      "    \"text\": \"\"\n",
      "  },\n",
      "  \"certificate_of_origin\": {\n",
      "    \"original\": 1,\n",
      "    \"copies\": 0,\n",
      "    \"warn\": \"[W] 無法辨識數量，預設為 1 正本\",\n",
      "    \"text\": \"CERTIFICATE OF ORIGIN ATTESTED BY THE CHAMBER OF COMMERCE CERTIFYING THAT THE GOODS ARE OF TAIWAN ORIGIN\"\n",
      "  },\n",
      "  \"inspection_certificate\": {\n",
      "    \"original\": 1,\n",
      "    \"copies\": 0,\n",
      "    \"warn\": \"[W] 無法辨識數量，預設為 1 正本\",\n",
      "    \"text\": \"CERTIFICATE OF ANALYSIS OR TEST CERTIFICATE OR INSPECTION CERTIFICATE ISSUED BY THE MANUFACTURER. .\"\n",
      "  },\n",
      "  \"importer\": {\n",
      "    \"original\": 0,\n",
      "    \"copies\": 0,\n",
      "    \"warn\": \"\",\n",
      "    \"text\": \"\"\n",
      "  },\n",
      "  \"weight_list\": {\n",
      "    \"original\": 0,\n",
      "    \"copies\": 0,\n",
      "    \"warn\": \"\",\n",
      "    \"text\": \"\"\n",
      "  },\n",
      "  \"remained\": [\n",
      "    \"14 DAYS FREE CONTAINER DETENTION PERIOD TO BE ALLOWED AT PORT OF DISCHARGE AND BILL OF LADING TO EVIDENCE THE SAME OR SEPARATE LETTER FROM SHIPPING COMPANY OR THEIR AGENT TO THIS EFFECT MUST ACCOMPANY THE ORIGINAL SET OF DOCUMENTS.\"\n",
      "  ]\n",
      "}\n"
     ]
    }
   ],
   "source": [
    "import unit_test\n",
    "imp.reload(logger)\n",
    "imp.reload(service)\n",
    "imp.reload(visionapi)\n",
    "imp.reload(formatter)\n",
    "imp.reload(evaluator)\n",
    "imp.reload(unit_test)\n",
    "\n",
    "credential = '../../service_acc.json'\n",
    "# jpg_root = '../../local/src/jpg_root'\n",
    "jpg_root = './../../lc_files/20181218_jpg'\n",
    "target_doc = None\n",
    "# target_doc ='201612YMIC-001LM01163500004'\n",
    "# target_doc = 'MX-M314N_20180706_151920'\n",
    "# target_doc = 'MX-M314N_20180906_151625'\n",
    "# target_doc = '469LC1183340002'\n",
    "# target_doc = '183330002'\n",
    "# target_doc = '180023'\n",
    "# target_doc = '81800066'\n",
    "# target_doc = '0005180014167'\n",
    "# target_doc = '0402018'\n",
    "# target_doc = '01181760014'\n",
    "# target_doc = '001006318' ## still have problem (few words missing in result of Vision API )\n",
    "# target_doc = '169010043416'\n",
    "target_doc = '1045000820118'\n",
    "target_bank = \"\"\n",
    "# target_bank = 'wellsfargo'\n",
    "# target_bank = 'citi'\n",
    "unit_test.CLTestCases.runTestWithService(credential, jpg_root, target_bank, target_doc=target_doc)\n",
    "# unit_test.CLTestCases.runTestWithDir(jpg_root, target_bank, target_doc=target_doc, iteration=10)\n",
    "unit_test.CLTestCases.runAndPrintTestWithDir(jpg_root, target_bank, target_doc=target_doc\n",
    "                                             , save = True\n",
    "                                             , iteration=10)\n"
   ]
  },
  {
   "cell_type": "code",
   "execution_count": null,
   "metadata": {
    "collapsed": true
   },
   "outputs": [],
   "source": []
  },
  {
   "cell_type": "code",
   "execution_count": null,
   "metadata": {
    "collapsed": true,
    "scrolled": true
   },
   "outputs": [],
   "source": []
  },
  {
   "cell_type": "code",
   "execution_count": null,
   "metadata": {
    "collapsed": true
   },
   "outputs": [],
   "source": []
  },
  {
   "cell_type": "code",
   "execution_count": null,
   "metadata": {
    "collapsed": true
   },
   "outputs": [],
   "source": []
  },
  {
   "cell_type": "code",
   "execution_count": null,
   "metadata": {
    "collapsed": true
   },
   "outputs": [],
   "source": []
  },
  {
   "cell_type": "code",
   "execution_count": null,
   "metadata": {
    "collapsed": true
   },
   "outputs": [],
   "source": []
  }
 ],
 "metadata": {
  "kernelspec": {
   "display_name": "Python 3",
   "language": "python",
   "name": "python3"
  },
  "language_info": {
   "codemirror_mode": {
    "name": "ipython",
    "version": 3
   },
   "file_extension": ".py",
   "mimetype": "text/x-python",
   "name": "python",
   "nbconvert_exporter": "python",
   "pygments_lexer": "ipython3",
   "version": "3.6.5"
  }
 },
 "nbformat": 4,
 "nbformat_minor": 2
}
