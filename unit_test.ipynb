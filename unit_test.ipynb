{
 "cells": [
  {
   "cell_type": "code",
   "execution_count": 1,
   "metadata": {
    "collapsed": true
   },
   "outputs": [],
   "source": [
    "import imp, os, json, re\n",
    "import service\n",
    "import package.logger as logger\n",
    "import package.utils as utils\n",
    "import package.visionapi as visionapi\n",
    "import package.reformatter as formatter\n",
    "import package.evaluator as evaluator\n",
    "import package.augmentation as augm"
   ]
  },
  {
   "cell_type": "code",
   "execution_count": 7,
   "metadata": {},
   "outputs": [
    {
     "name": "stdout",
     "output_type": "stream",
     "text": [
      "[W] No image found in './../../lc_files/20181218_jpg'\n",
      "[I] Evaluaing document for ./../../lc_files/20181218_jpg/2551FLC0402018\n",
      "\n",
      "{\n",
      "  \"bill_of_lading\": {\n",
      "    \"original\": 3,\n",
      "    \"copies\": 3,\n",
      "    \"warn\": \"\",\n",
      "    \"text\": \"FULL SET (PLUS THREE NON NEGOTIABLE) OF CLEAN ON BOARD SHIPPING COMPANY'S BILL OF LADING SHOWING FREIGHT PREPAID MADE OUT TO ORDER OF CANARA BANK PRIME CORPORATE BRANCH PUNE AND CLAUSED NOTIFY OF SUSHILA PARMAR INTERNATIONAL PVT LTD SHREE ADINATH SHOPPING CENTRE, PUNE SATARA ROAD, PUNE 411037, MAHARASTRA, INDIA. DATED NOT LATER THAN 15 JUNE 2018 BUT NOT EARLIER THAN THE DATE OF L/C AND EVIDENCING NAME AND ADDRESS OF OUR BANK.\"\n",
      "  },\n",
      "  \"commercial_invoice\": {\n",
      "    \"original\": 4,\n",
      "    \"copies\": 0,\n",
      "    \"warn\": \"\",\n",
      "    \"text\": \"- SIGNED COMMERCIAL INVOICE IN QUADRUPLICATE DULY CERTIFYING THAT GOODS SHIPPED ARE AS PER PI FOR QTY 216 MT GRADE S 65D DISCHARGE PORT NHAVASHEVA AS PER PI REF NO A7G260 DTD 21 MAY 2018\"\n",
      "  },\n",
      "  \"packing_list\": {\n",
      "    \"original\": 3,\n",
      "    \"copies\": 0,\n",
      "    \"warn\": \"\",\n",
      "    \"text\": \"PACKING LIST IN TRIPLICATE.\"\n",
      "  },\n",
      "  \"insurance_policy\": {\n",
      "    \"original\": 2,\n",
      "    \"copies\": 0,\n",
      "    \"warn\": \"\",\n",
      "    \"text\": \"INSURANCE POLICIES/CERTIFICATES IN DUPLICATE COVERING MARINE AND WAR RISKS, ALSO RIOTS, STRIKES CIVIL COMMOTION AND MALICIOUS DAMAGES IN THE NEGOTIABLE FORM IN THE SAME CURRENCY AS THE CREDIT FOR THE INVOICE VALUE PLUS 10 PERCENT COVERING INSTITUTE CARGO CLAUSES (A), INSTITUTE WAR CLAUSES CARGO, INSTITUTE STRIKE CLAUSE CARGO AND SHOWING CLAIMS PAYABLE AT (INDIA). INSURANCE FOR ALL RISKS INCLUDING TPNDRISKS FROM BENEFICIARY'S WAREHOUSE TO APPLICANT'S WAREHOUSE. INSURANCE TO COVER TRANSSHIPMENT RISK ALSO.\"\n",
      "  },\n",
      "  \"customs_invoice\": {\n",
      "    \"original\": 0,\n",
      "    \"copies\": 0,\n",
      "    \"warn\": \"\",\n",
      "    \"text\": \"\"\n",
      "  },\n",
      "  \"consular_invoice\": {\n",
      "    \"original\": 0,\n",
      "    \"copies\": 0,\n",
      "    \"warn\": \"\",\n",
      "    \"text\": \"\"\n",
      "  },\n",
      "  \"certificate_of_origin\": {\n",
      "    \"original\": 3,\n",
      "    \"copies\": 0,\n",
      "    \"warn\": \"\",\n",
      "    \"text\": \"CERTIFICATE OF ORIGIN ISSUED BY CHAMBER OF COMMERCE IN TRIPLICATE CERTIFYING GOODS OF TAIWAN ORIGIN MENTIONING HS CODE AS 390410.\"\n",
      "  },\n",
      "  \"inspection_certificate\": {\n",
      "    \"original\": 0,\n",
      "    \"copies\": 0,\n",
      "    \"warn\": \"\",\n",
      "    \"text\": \"\"\n",
      "  },\n",
      "  \"importer\": {\n",
      "    \"original\": 0,\n",
      "    \"copies\": 0,\n",
      "    \"warn\": \"\",\n",
      "    \"text\": \"\"\n",
      "  },\n",
      "  \"weight_list\": {\n",
      "    \"original\": 0,\n",
      "    \"copies\": 0,\n",
      "    \"warn\": \"\",\n",
      "    \"text\": \"\"\n",
      "  },\n",
      "  \"remained\": [\n",
      "    \"MT GRADE B 57 DISCHARGE PORT KATTUPALLI AS PER PI REF NO 11686449 A7G261 DTD 21 MAY 2018\",\n",
      "    \"MT GRADE S 65 DISCHARGE PORT KATTUPALLI AS PER PI REF NO A7G262 DTD 21 MAY 2018\",\n",
      "    \"MT GRADE B 60 DISCHARGE PORT NHAVASHEVA AS PER PI REF NO 11685446 A7G263 DTD 21 MAY 2018 G L ESSAGES 11486450 A74264 DTD 21 MAY 2018\",\n",
      "    \"CERTIFICATE OF QUALITY MENTIONING THIS MATERIAL IS POLYVINYL CHLORIDE RESIN SUSPENSION GRADE.\"\n",
      "  ]\n",
      "}\n"
     ]
    }
   ],
   "source": [
    "import unit_test\n",
    "imp.reload(logger)\n",
    "imp.reload(service)\n",
    "imp.reload(visionapi)\n",
    "imp.reload(formatter)\n",
    "imp.reload(evaluator)\n",
    "imp.reload(unit_test)\n",
    "imp.reload(augm)\n",
    "\n",
    "credential = '../../service_acc.json'\n",
    "# jpg_root = '../../local/src/jpg_root'\n",
    "jpg_root = './../../lc_files/20181218_jpg'\n",
    "target_doc = None\n",
    "# target_doc ='201612YMIC-001LM01163500004'\n",
    "# target_doc = 'MX-M314N_20180706_151920'\n",
    "# target_doc = 'MX-M314N_20180906_151625'\n",
    "# target_doc = '469LC1183340002'\n",
    "# target_doc = '183330002'\n",
    "# target_doc = '180023'\n",
    "# target_doc = '81800066'\n",
    "# target_doc = '0005180014167'\n",
    "target_doc = '0402018'\n",
    "# target_doc = '01181760014'\n",
    "# target_doc = '001006318' ## still have problem (few words missing in result of Vision API )\n",
    "# target_doc = '169010043416'\n",
    "# target_doc = '1045000820118'\n",
    "target_bank = \"\"\n",
    "# target_bank = 'wellsfargo'\n",
    "# target_bank = 'citi'\n",
    "# unit_test.CLTestCases.runTestWithService(credential, jpg_root, target_bank, target_doc=target_doc)\n",
    "# unit_test.CLTestCases.runTestWithDir(jpg_root, target_bank, target_doc=target_doc, iteration=10)\n",
    "unit_test.CLTestCases.runAndPrintTestWithDir(jpg_root, target_bank, target_doc=target_doc\n",
    "                                             , save = True\n",
    "                                             , iteration=10)\n"
   ]
  },
  {
   "cell_type": "code",
   "execution_count": null,
   "metadata": {
    "collapsed": true
   },
   "outputs": [],
   "source": []
  },
  {
   "cell_type": "code",
   "execution_count": null,
   "metadata": {
    "collapsed": true,
    "scrolled": true
   },
   "outputs": [],
   "source": []
  },
  {
   "cell_type": "code",
   "execution_count": null,
   "metadata": {
    "collapsed": true
   },
   "outputs": [],
   "source": []
  },
  {
   "cell_type": "code",
   "execution_count": null,
   "metadata": {
    "collapsed": true
   },
   "outputs": [],
   "source": []
  },
  {
   "cell_type": "code",
   "execution_count": null,
   "metadata": {
    "collapsed": true
   },
   "outputs": [],
   "source": []
  },
  {
   "cell_type": "code",
   "execution_count": null,
   "metadata": {
    "collapsed": true
   },
   "outputs": [],
   "source": []
  }
 ],
 "metadata": {
  "kernelspec": {
   "display_name": "Python 3",
   "language": "python",
   "name": "python3"
  },
  "language_info": {
   "codemirror_mode": {
    "name": "ipython",
    "version": 3
   },
   "file_extension": ".py",
   "mimetype": "text/x-python",
   "name": "python",
   "nbconvert_exporter": "python",
   "pygments_lexer": "ipython3",
   "version": "3.6.5"
  }
 },
 "nbformat": 4,
 "nbformat_minor": 2
}
