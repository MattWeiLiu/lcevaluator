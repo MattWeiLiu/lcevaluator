{
 "cells": [
  {
   "cell_type": "code",
   "execution_count": 1,
   "metadata": {
    "collapsed": true
   },
   "outputs": [],
   "source": [
    "import imp, os, json, re\n",
    "import service\n",
    "import package.logger as logger\n",
    "import package.utils as utils\n",
    "import package.visionapi as visionapi\n",
    "import package.reformatter as formatter\n",
    "import package.evaluator as evaluator"
   ]
  },
  {
   "cell_type": "code",
   "execution_count": 2,
   "metadata": {},
   "outputs": [
    {
     "name": "stdout",
     "output_type": "stream",
     "text": [
      "[W] No image found in '../../local/src/jpg_root'\n",
      "[W] No image found in '../../local/src/jpg_root/chartered'\n",
      "[W] No image found in '../../local/src/jpg_root/citi'\n",
      "[W] No image found in '../../local/src/jpg_root/huanan'\n",
      "[W] No image found in '../../local/src/jpg_root/mega'\n",
      "[W] No image found in '../../local/src/jpg_root/wellsfargo'\n"
     ]
    }
   ],
   "source": [
    "import unit_test\n",
    "imp.reload(logger)\n",
    "imp.reload(service)\n",
    "imp.reload(visionapi)\n",
    "imp.reload(formatter)\n",
    "imp.reload(evaluator)\n",
    "imp.reload(unit_test)\n",
    "\n",
    "credential = '../../local/src/service_acc.json'\n",
    "jpg_root = '../../local/src/jpg_root'\n",
    "target_doc = None\n",
    "# target_doc ='201612YMIC-001LM01163500004'\n",
    "# target_doc = 'MX-M314N_20180706_151920'\n",
    "# target_doc = 'MX-M314N_20180906_151625'\n",
    "# target_doc = 'MX-M314N_20180907_113407'\n",
    "# target_bank = None\n",
    "target_bank = 'wellsfargo'\n",
    "# target_bank = 'citi'\n",
    "unit_test.CLTestCases.runTestWithService(credential, jpg_root, target_bank, target_doc=target_doc)\n",
    "# unit_test.CLTestCases.runTestWithDir(jpg_root, target_bank, target_doc=target_doc, iteration=10)"
   ]
  },
  {
   "cell_type": "code",
   "execution_count": null,
   "metadata": {
    "collapsed": true
   },
   "outputs": [],
   "source": []
  },
  {
   "cell_type": "code",
   "execution_count": null,
   "metadata": {
    "collapsed": true,
    "scrolled": true
   },
   "outputs": [],
   "source": []
  },
  {
   "cell_type": "code",
   "execution_count": null,
   "metadata": {
    "collapsed": true
   },
   "outputs": [],
   "source": []
  }
 ],
 "metadata": {
  "kernelspec": {
   "display_name": "Python 3",
   "language": "python",
   "name": "python3"
  },
  "language_info": {
   "codemirror_mode": {
    "name": "ipython",
    "version": 3
   },
   "file_extension": ".py",
   "mimetype": "text/x-python",
   "name": "python",
   "nbconvert_exporter": "python",
   "pygments_lexer": "ipython3",
   "version": "3.6.5"
  }
 },
 "nbformat": 4,
 "nbformat_minor": 2
}
