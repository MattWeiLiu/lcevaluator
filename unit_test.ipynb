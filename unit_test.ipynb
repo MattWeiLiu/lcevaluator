{
 "cells": [
  {
   "cell_type": "code",
   "execution_count": 1,
   "metadata": {
    "collapsed": true
   },
   "outputs": [],
   "source": [
    "import imp, os, json, re\n",
    "import service\n",
    "import package.logger as logger\n",
    "import package.utils as utils\n",
    "import package.visionapi as visionapi\n",
    "import package.reformatter as formatter\n",
    "import package.evaluator as evaluator"
   ]
  },
  {
   "cell_type": "code",
   "execution_count": 89,
   "metadata": {},
   "outputs": [
    {
     "name": "stdout",
     "output_type": "stream",
     "text": [
      "[W] No image found in './../../lc_files/20181218_jpg'\n",
      "[I] Evaluaing document for ./../../lc_files/20181218_jpg/00050LC81800066\n",
      "\n",
      "{\n",
      "  \"bill_of_lading\": {\n",
      "    \"original\": 3,\n",
      "    \"copies\": 3,\n",
      "    \"warn\": \"\",\n",
      "    \"text\": \"3. FULL SET (3/3) OF CLEAN SHIPPED ON BOARD OCEAN B/L PLUS 3NON-NEGOTIABLE COPIES MADE OUT TO ORDER AND BLANK ENDORSED,MARKED 'FREIGHT PREPAID'.\"\n",
      "  },\n",
      "  \"commercial_invoice\": {\n",
      "    \"original\": 3,\n",
      "    \"copies\": 0,\n",
      "    \"warn\": \"\",\n",
      "    \"text\": \".1. SIGNED, COMMERCIAL INVOICE IN TRIPLICATE.\"\n",
      "  },\n",
      "  \"packing_list\": {\n",
      "    \"original\": 3,\n",
      "    \"copies\": 0,\n",
      "    \"warn\": \"\",\n",
      "    \"text\": \"2. SIGNED PACKING LIST IN TRIPLICATE.\"\n",
      "  },\n",
      "  \"insurance_policy\": {\n",
      "    \"original\": 0,\n",
      "    \"copies\": 0,\n",
      "    \"warn\": \"\",\n",
      "    \"text\": \"\"\n",
      "  },\n",
      "  \"customs_invoice\": {\n",
      "    \"original\": 0,\n",
      "    \"copies\": 0,\n",
      "    \"warn\": \"\",\n",
      "    \"text\": \"\"\n",
      "  },\n",
      "  \"consular_invoice\": {\n",
      "    \"original\": 0,\n",
      "    \"copies\": 0,\n",
      "    \"warn\": \"\",\n",
      "    \"text\": \"\"\n",
      "  },\n",
      "  \"certificate_of_origin\": {\n",
      "    \"original\": 3,\n",
      "    \"copies\": 0,\n",
      "    \"warn\": \"\",\n",
      "    \"text\": \"5. CERTIFICATE OF ORIGIN IN TRIPLICATE ISSUED BY CHAMBER OFCOMMERCE IN COUNTRY OF ORIGIN OF THE GOODS AND SHOWINGEXPORTER'S NAME, GOODS DESCRIPTION SHOULD BE SAME AS B/L ANDIMPORTER'S NAME AND ADDRESS SHOULD BE SAME AS NOTIFY PARTYIN B/L.\"\n",
      "  },\n",
      "  \"inspection_certificate\": {\n",
      "    \"original\": 1,\n",
      "    \"copies\": 0,\n",
      "    \"warn\": \"[W] 無法辨識數量，預設為 1 正本\",\n",
      "    \"text\": \"6. CERTIFICATE OF ANALYSIS MUST MENTION : CONTENTS OF GRADE,TEST METHOD, ITEM, QUANTITY AND LOT NUMBER ISSUED BYMANUFACTURER.\\b\"\n",
      "  },\n",
      "  \"importer\": {\n",
      "    \"original\": 0,\n",
      "    \"copies\": 0,\n",
      "    \"warn\": \"\",\n",
      "    \"text\": \"\"\n",
      "  },\n",
      "  \"weight_list\": {\n",
      "    \"original\": 0,\n",
      "    \"copies\": 0,\n",
      "    \"warn\": \"\",\n",
      "    \"text\": \"\"\n",
      "  },\n",
      "  \"remained\": [\n",
      "    \"4. APPLICANT SHOULD ADVISE BENEFICIARY REGARDING SHIPPER, NOTIFYPARTY, GOODS DESCRIPTION, PORT OF DISCHARGE AND/OR PLACE OFDELIVERY AND /OR FINAL DESTINATION TO BE SHOWN ON B/L AND OTHERB/L CONTENTS.A COPY OF ADVICE SHOULD ACCOMPANY WITH THE ORIGINAL DOCUMENTSFOR NEGOTIATION.\"\n",
      "  ]\n",
      "}\n"
     ]
    }
   ],
   "source": [
    "import unit_test\n",
    "imp.reload(logger)\n",
    "imp.reload(service)\n",
    "imp.reload(visionapi)\n",
    "imp.reload(formatter)\n",
    "imp.reload(evaluator)\n",
    "imp.reload(unit_test)\n",
    "\n",
    "credential = '../../service_acc.json'\n",
    "# jpg_root = '../../local/src/jpg_root'\n",
    "jpg_root = './../../lc_files/20181218_jpg'\n",
    "target_doc = None\n",
    "# target_doc ='201612YMIC-001LM01163500004'\n",
    "# target_doc = 'MX-M314N_20180706_151920'\n",
    "# target_doc = 'MX-M314N_20180906_151625'\n",
    "# target_doc = 'MX-M314N_20180907_113407'\n",
    "target_bank = \"\"\n",
    "# target_bank = 'wellsfargo'\n",
    "# target_bank = 'citi'\n",
    "# unit_test.CLTestCases.runTestWithService(credential, jpg_root, target_bank, target_doc=target_doc)\n",
    "# unit_test.CLTestCases.runTestWithDir(jpg_root, target_bank, target_doc=target_doc, iteration=10)\n",
    "unit_test.CLTestCases.runAndPrintTestWithDir(jpg_root, target_bank, target_doc=target_doc, iteration=10)\n"
   ]
  },
  {
   "cell_type": "code",
   "execution_count": 30,
   "metadata": {},
   "outputs": [
    {
     "name": "stdout",
     "output_type": "stream",
     "text": [
      "[W] No image found in './../../lc_files/20181218_jpg'\n"
     ]
    }
   ],
   "source": []
  },
  {
   "cell_type": "code",
   "execution_count": null,
   "metadata": {
    "scrolled": true
   },
   "outputs": [],
   "source": []
  },
  {
   "cell_type": "code",
   "execution_count": null,
   "metadata": {},
   "outputs": [],
   "source": []
  },
  {
   "cell_type": "code",
   "execution_count": null,
   "metadata": {},
   "outputs": [],
   "source": []
  },
  {
   "cell_type": "code",
   "execution_count": null,
   "metadata": {
    "collapsed": true
   },
   "outputs": [],
   "source": []
  }
 ],
 "metadata": {
  "kernelspec": {
   "display_name": "Python 3",
   "language": "python",
   "name": "python3"
  },
  "language_info": {
   "codemirror_mode": {
    "name": "ipython",
    "version": 3
   },
   "file_extension": ".py",
   "mimetype": "text/x-python",
   "name": "python",
   "nbconvert_exporter": "python",
   "pygments_lexer": "ipython3",
   "version": "3.6.5"
  }
 },
 "nbformat": 4,
 "nbformat_minor": 2
}
