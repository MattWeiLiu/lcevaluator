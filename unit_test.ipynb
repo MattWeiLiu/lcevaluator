{
 "cells": [
  {
   "cell_type": "code",
   "execution_count": 9,
   "metadata": {
    "collapsed": true
   },
   "outputs": [],
   "source": [
    "import imp, os, json, re\n",
    "import service\n",
    "import package.logger as logger\n",
    "import package.utils as utils\n",
    "import package.visionapi as visionapi\n",
    "import package.reformatter as formatter\n",
    "import package.evaluator as evaluator"
   ]
  },
  {
   "cell_type": "code",
   "execution_count": 12,
   "metadata": {},
   "outputs": [
    {
     "name": "stdout",
     "output_type": "stream",
     "text": [
      "{'header': {'date_of_registration': {'text': '11/30/2018', 'boundingbox': [136, 404, 435, 435]}, 'advising_bank': {'text': 'CITIBANK TAIWAN LTD., TAIPEI, TAIWAN\\n7F 16 SEC.4 NANKING EAST RD\\nTAIPEI, 105 TAIWAN.\\nTEL: 2576-6991/ (02) 2576-6966\\nFAX: (02) 2578-8715\\n', 'boundingbox': [929, 569, 1469, 751]}, 'advising_no_of_bank': {'text': '5139762599', 'boundingbox': [136.0, 824.0, 732.0, 853.0]}, 'lc_no': {'text': 'MFOIMLU183330002', 'boundingbox': [135.0, 856.0, 827.0, 889.0]}, 'issuing_bank': {'text': 'THE KARUR VYSYA BANK LTD', 'boundingbox': [132.0, 888.0, 888.0, 947.0]}, 'applicant': {'text': 'TDRL TRADING COMPANY', 'boundingbox': [133.0, 950.0, 890.0, 982.0]}, 'amount': {'text': 'USD 46,410.00', 'boundingbox': [135.0, 984.0, 776.0, 1014.0]}, 'expiry_date': {'text': 'FEB. 21, 2019', 'boundingbox': [134.0, 1015.0, 776.0, 1043.0]}}, 'swifts': {'code_20': {'text': ':20: (OUR REF NUM)\\nMFCIMLU183330002\\x08', 'boundingbox': [[132, 811, 399, 867]], 'page': [2]}, 'code_21': {'text': '', 'boundingbox': [], 'page': []}, 'code_23': {'text': '', 'boundingbox': [], 'page': []}, 'code_26E': {'text': '', 'boundingbox': [], 'page': []}, 'code_27': {'text': ':27: (SEQ OF TOTAL)\\n1/1\\x08', 'boundingbox': [[137, 684, 418, 741]], 'page': [2]}, 'code_30': {'text': '', 'boundingbox': [], 'page': []}, 'code_31C': {'text': ':31C: (DATE OF ISSUE)\\n181129\\x08', 'boundingbox': [[137, 870, 450, 927]], 'page': [2]}, 'code_31D': {'text': ':31D: (DATE AND PLACE OF EXPIRY)\\n190221 INDIA\\x08', 'boundingbox': [[133, 998, 625, 1055]], 'page': [2]}, 'code_32B': {'text': ':32B: (CURRENCY CODE AND AMOUNT)\\nUSD46410,\\x08', 'boundingbox': [[126, 1348, 622, 1407]], 'page': [2]}, 'code_39A': {'text': '', 'boundingbox': [], 'page': []}, 'code_39B': {'text': '', 'boundingbox': [], 'page': []}, 'code_39C': {'text': '', 'boundingbox': [], 'page': []}, 'code_40A': {'text': ':40A: (FORM OF DOC CREDIT)\\nIRREVOCABLE\\x08', 'boundingbox': [[140, 742, 533, 805]], 'page': [2]}, 'code_40B': {'text': '', 'boundingbox': [], 'page': []}, 'code_40E': {'text': ':40E: (LC SUBJECT TO)\\nUCP LATEST VERSION\\x08', 'boundingbox': [[130, 934, 448, 994]], 'page': [2]}, 'code_41A': {'text': '', 'boundingbox': [], 'page': []}, 'code_41D': {'text': ':41D: (AVAILABLE WITH..BY...)\\nBANK OF BARODA ,GIFT CITY,\\nGUJARAT, INDIA\\nBIC (BARBINBBIBU)\\nBY NEGOTIATION\\x08', 'boundingbox': [[126, 1413, 570, 1565]], 'page': [2]}, 'code_42A': {'text': ':42A: (DRAWEE)\\nKVBLINBBFPC\\x08', 'boundingbox': [[125, 1668, 329, 1725]], 'page': [2]}, 'code_42D': {'text': '', 'boundingbox': [], 'page': []}, 'code_42C': {'text': ':42C: (DRAFTS AT...)\\n120 DAYS FROM DATE OF BILL OF LADIN\\x08', 'boundingbox': [[132, 1572, 684, 1633]], 'page': [2]}, 'code_42P': {'text': '', 'boundingbox': [], 'page': []}, 'code_42M': {'text': '', 'boundingbox': [], 'page': []}, 'code_43P': {'text': ':43P: (PARTIAL SHIPMENT)\\nALLOWED\\x08', 'boundingbox': [[129, 1730, 493, 1789]], 'page': [2]}, 'code_43T': {'text': ':43T: (TRANSHIPMENT)\\nALLOWED\\x08', 'boundingbox': [[126, 1797, 422, 1852]], 'page': [2]}, 'code_44A': {'text': '', 'boundingbox': [], 'page': []}, 'code_44B': {'text': ':44B: (PLACE OF FINAL DESTINATION)\\nICD, TUGHLAKABAD, NEW DELHI, INDIA\\x08', 'boundingbox': [[131, 1989, 653, 2049]], 'page': [2]}, 'code_44C': {'text': ':44C: (LATEST DATE OF SHIPMENT)\\x08190131\\x08', 'boundingbox': [[132, 2052, 600, 2081], [142, 388, 233, 412]], 'page': [2, 3]}, 'code_44D': {'text': '', 'boundingbox': [], 'page': []}, 'code_44E': {'text': ':44E: (PORT OF LOADING)\\nANY PORT IN TAIWAN\\x08', 'boundingbox': [[127, 1860, 474, 1918]], 'page': [2]}, 'code_44F': {'text': ':44F: (PORT OF DISCHARGE)\\nNHAVASHEVA PORT, INDIA\\x08', 'boundingbox': [[123, 1924, 505, 1982]], 'page': [2]}, 'code_45A': {'text': ':45A: (GOODS DESC)\\n51.00 MTS OF PVC SUSPENSION RESIN B-57 AT USD 910.00 PER MT FOR A\\nTOTAL VALUE OF USD 46410.00 AS PER THE SPECIFICATIONS MENTIONED\\nIN THE PROFORMA INVOICE NO.18N12M11 DATED 21 NOV2018 OF THE\\nBENEFICIARY, CIF, NHAVA SHEVA PORT, INDIA. INCOTERMS 2010.\\x08', 'boundingbox': [[137, 421, 1176, 574]], 'page': [3]}, 'code_45B': {'text': '', 'boundingbox': [], 'page': []}, 'code_46A': {'text': ':46A: (DOCUMENTS REQD)\\n1. SIGNED COMMERCIAL INVOICES IN ONE ORIGINAL PLUS FOUR COPIES\\nFOR A VALUE NOT EXCEEDING THE DRAFT AMOUNT QUOTING IMPORT UNDER\\nFOREIGN TRADE POLICY 2015-2020 AND CERTIFYING THAT THE GOODS\\nARE AS PER PROFORMA INVOICE NO. 18N12M11 DATED 21NOV2018 OF THE\\nBENEFICIARY. THE COMMERCIAL INVOICE SHOULD MENTION THE IE CODE\\n0513030131 OF THE APPLICANT AND HS CODE OF THE GOODS IMPORTED.\\nTHE GROSS CIF VALUE OF THE GOODS BEFORE DEDUCTION OF AGENTS\\nCOMMISSION, IF ANY, MUST NOT EXCEED THE CREDIT AMOUNT.\\n2.FULL SET, SIGNED, CLEAN\\', \\'ON BOARD\", OCEAN BILLS OF LADING OF\\nA CONFERENCE/NON-CONFERENCE LINE VESSEL MADE OUT TO ORDER OF THE\\nKARUR VYSYA BANK LIMITED, RAMESH NAGAR BRANCH, NEW DELHI, INDIA\\'\\nMARKED \\'FREIGHT PREPAID\\' AND NOTIFY US AND THE APPLICANT.\\n3.MARINE INSURANCE POLICIES/CERTIFICATES IN TWO FOLD DATED NOT\\nLATER THAN THE DATE OF SHIPMENT UNTO ORDER AND BLANK ENDORSED FOR\\n10 PERCENT OVER THE INVOICE VALUE COVERING INSTITUTE CARGO\\nCLAUSE (A), INSTITUTE WAR CLAUSE (CARGO), INSTITUTE STRIKES CLAUSE\\n(CARGO) AND WAREHOUSE TO WAREHOUSE CLAUSES WITH CLAIMS PAYABLE IN\\nINDIA IRRESPECTIVE OF PERCENTAGE. TRANSHIPMENT RISKS MUST BE\\nCOVERED IF THE GOODS ARE SUBJECT TO TRANSHIPMENT.\\n4. PACKING LIST IN THREE FOLD\\n5. CERTIFICATE OF TAIWAN ORIGIN ISSUED BY THE CHAMBER OF COMMERCE\\nIN THREE FOLD.\\n6.DRAFTS DRAWN UNDER THIS CREDIT MUST BE MARKED DRAWN UNDER\\nLETTER OF CREDIT OF KARUR VYSYA BANK LIMITED, CFPC, CHENNAI,\\nINDIA\\' AND MUST CLEARLY INDICATE THE L/C NUMBER AND OPENING\\nDATE. THE AMOUNT OF ANY DRAFT IS TO BE ENDORSED BY THE\\nNEGOTIATING BANK ON THE REVERSE HEREOF\\n7. CERTIFICATE FROM SHIPPING COMPANY OR ITS AGENT STATING THAT THE\\nVESSEL IS CLASSIFIED BY AN APPROVED CLASSIFICATION SOCIETY AS\\nPER INSTITUTE CLASSIFICATION CLAUSES AND IS CLASSIFIED AS LLOYDS\\n100A1 OR ITS EQUIVALENT CLASSIFICATION AND IS NOT MORE THAN 25\\nYEARS OLD AND IS SEAWORTHY,\\x08', 'boundingbox': [[129, 577, 1179, 1616]], 'page': [3]}, 'code_46B': {'text': '', 'boundingbox': [], 'page': []}, 'code_47A': {'text': ':47A: (ADDITIONAL CONDITIONS)\\n1. TRANSPORT DOCUMENTS BEARING REFERENCE BY STAMP OR OTHERWISE TO\\nCOST ADDITIONAL TO THE FREIGHT CHARGES ARE NOT ACCEPTABLE.\\n2. ALL DOCUMENTS SHOULD QUOTE OUR CREDIT NUMBER AND DATE.\\n3. DECK SHIPMENT PROHIBITED.\\n4. ALL DOCUMENTS SHOULD BE IN ENGLISH.\\n5. IF BILLS ARE RECEIVED WITH DISCREPANCIES, A DISCREPANCY FEE OF\\nUSD 75.00 WILL BE CHARGED IF THE DISCREPANCIES ARE ACCEPTED BY US\\nAND THE APPLICANT WHICH WILL BE DEDUCTED FROM THE BILL PROCEEDS.\\n6. DUE DATE SHOULD NOT EXCEED 360 DAYS FROM THE DATE OF SHIPMENT.\\n7. SEPERATE SET OF COMMERCIAL INVOICE SHOULD BE SUBMITTED FOR\\nEACH BILL OF LADING IF PART SHIPMENT IS EFFECTED.\\n8. ALL DOCUMENTS DATED PRIOR TO LC ISSUE DATE ARE NOT ACCEPTABLE.\\n8.USANCE INTEREST IS PAYABLE BY THE APPLICANT AT 6M LIBOR PLUS\\n110 BASIS POINTS PER ANNUM + USD 200 AS DOCUMENT HANDLING CHARGES\\x08AND SWIFT CHARGES FOR PER SET OF DOCUMENTS.\\n10.THE PRESENTING BANK HAS TO DESPATCH THE DOCUMENTS WITH\\nORIGINAL LC AND AMENDMENTS IF ANY DIRECTLY TO THE NEGOTIATING\\nBANK BANK OF BARODA, IFSC BANKING UNIT, OFFICE NO 803, HIRANANDANI\\nSIGNATURE BUILDING, GIFT SEZ, GIFT CITY, GANDHINAGAR, GUJARAT\\n382355, INDIA ON OR BEFORE THE VALIDITY OF THE CREDIT.\\n11. DESPITE THE TENOR OF THIS LC (120 DAYS FROM THE DATE OF\\nSHIPMENT) BANK OF BARODA, IFSC BANKING UNIT IS AUTHORISED TO\\nDISCOUNT THE BILL WITH THE DISCOUNTING INTEREST FOR USANCE PERIOD\\nAND MAKE PAYMENT TO THE BENEFICIARY AT SIGHT BASIS UPON\\nPRESENTATION OF STRICTLY CREDIT COMPLIED DOCUMENTS AND AFTER\\nRECEIPT OF ACCEPTANCE FROM LC ISSUING BANK.\\x08', 'boundingbox': [[127, 1620, 1172, 2108], [135, 389, 1176, 762]], 'page': [3, 4]}, 'code_47B': {'text': '', 'boundingbox': [], 'page': []}, 'code_48': {'text': ':48: (PERIOD FOR PRESENTATION IN DAYS)\\n21/FROM DATE OF SHIPMENT\\x08', 'boundingbox': [[138, 892, 725, 947]], 'page': [4]}, 'code_49': {'text': ':49: (CONFIRM INSTRUCTIONS)\\nWITHOUT\\x08', 'boundingbox': [[132, 955, 546, 1010]], 'page': [4]}, 'code_50': {'text': ':50: (APPLICANT)\\nTDRL TRADING COMPANY\\nGF-9 RAJDHANI ENCLAVE, PITAMPURA\\nDELHI 110034,\\nINDIA\\x08', 'boundingbox': [[129, 1063, 645, 1213]], 'page': [2]}, 'code_51A': {'text': '', 'boundingbox': [], 'page': []}, 'code_51D': {'text': '', 'boundingbox': [], 'page': []}, 'code_52A': {'text': '', 'boundingbox': [], 'page': []}, 'code_53A': {'text': '', 'boundingbox': [], 'page': []}, 'code_53D': {'text': '', 'boundingbox': [], 'page': []}, 'code_57A': {'text': ':57A: (ADVISE THRU BANK)\\nICBCTWTPXXX\\n: 722: (SENDER TO RECVR INFO)\\nTHIS IS AN OPERATIVE CREDIT\\nINSTRUMENT AND NO MAIL CONFIRMATION\\nWILL FOLLOW.\\nCHK/CF1CCB0C486E\\nSAC\\n=11291354 CB ZLA81979\\x08', 'boundingbox': [[129, 1364, 692, 1679]], 'page': [4]}, 'code_57D': {'text': '', 'boundingbox': [], 'page': []}, 'code_59': {'text': ':59: (BENEFICIARY)\\nFORMOSA PLASTICS CORPORATION\\n4F, 201 TUNG HWA NORTH ROAD\\nTAIPEI, TAIWAN\\x08', 'boundingbox': [[131, 1220, 578, 1342]], 'page': [2]}, 'code_71B': {'text': '', 'boundingbox': [], 'page': []}, 'code_72': {'text': '', 'boundingbox': [], 'page': []}, 'code_78': {'text': ':78: (INSTRUCTIONS TO PAY/ACCEPT/NEG BANK)\\nNEGOTIATING BANK SHOULD FORWARD ORIGINAL DOCUMENTS IN FULL SET BY\\nCOURIER TO THE FOLLOWING ADDRESS:\\nTHE KARUR VYSYA BANK LTD.\\nB-97 SHARADA PURI, RADHEY SHYAM MANDIR CHOWK,\\nRAMESH NAGAR, DELHI -110015, INDIA..\\nEACH DRAWING MUST BE ENDORSED ON THE REVERSE OF THIS CREDIT. ON\\nRECEIPT OF CREDIT CONFORMING DOCUMENTS, WE SHALL COVER YOU AS PER\\nYOUR INSTRUCTIONS ON THE DUE DATE.\\x08', 'boundingbox': [[134, 1018, 1176, 1363]], 'page': [4]}, 'code_79': {'text': '', 'boundingbox': [], 'page': []}}, 'checklist': {'duration': {'latest_shipment': '190131', 'latest_negociation': '[W] 押匯期限: 不重要，應該與信用狀有效期限相同', 'expiry_date': ['190221', '[W] 地點『 INDIA\\x08』不是台灣!'], 'presented_in_7_days': '21'}, 'main_part': {'transferable': False, 'confirmed': 'WITHOUT', 'beneficiary': 'FORMOSA PLASTICS CORPORATION', 'accurate_name': True, 'ucp660': True}, 'trade_terms': {'descrption': 'PVC SUSPENSION RESIN', 'quantity': '51.00 mts', 'amount': 'USD46410,\\x08', 'terms': '[W] 交易條件: no term are found in 45A: 51.00 MTS OF PVC SUSPENSION RESIN B-57 AT USD 910.00 PER MT FOR A\\nTOTAL VALUE OF USD 46410.00 AS PER THE SPECIFICATIONS MENTIONED\\nIN THE PROFORMA INVOICE NO.18N12M11 DATED 21 NOV2018 OF THE\\nBENEFICIARY, CIF, NHAVA SHEVA PORT, INDIA. INCOTERMS 2010.\\x08', 'insurance': '[W] 保險指示: 交易條件有誤 無法判斷'}, 'negociation_amt': {'nominated_bank': 'BANK OF BARODA ,GIFT CITY,\\nGUJARAT, INDIA\\nBIC (BARBINBBIBU)\\nBY NEGOTIATION\\x08', 'at_sight': '120 DAYS FROM DATE OF BILL OF LADIN\\x08', 'interest': '[W] 利息負擔: Missing 39C 預設『客戶負擔』', 'mark_up': '51.00 MTS OF PVC SUSPENSION RESIN B-57 AT USD 910.00 PER MT FOR A\\nTOTAL VALUE OF USD 46410.00 AS PER THE SPECIFICATIONS MENTIONED\\nIN THE PROFORMA INVOICE NO.18N12M11 DATED 21 NOV2018 OF THE\\nBENEFICIARY, CIF, NHAVA SHEVA PORT, INDIA. INCOTERMS 2010.\\x08', 'mgmt_mark_up': '[W] 溢價處理: Missing 42P (目前沒看到過，有待商確)'}, 'shipping_argmt': {'destination': 'ICD, TUGHLAKABAD, NEW DELHI, INDIA\\x08NHAVASHEVA PORT, INDIA\\x08', 'nominated_loading_port': 'ANY PORT IN TAIWAN\\x08', 'partial_shipment': 'ALLOWED\\x08', 'transshipment': 'ALLOWED\\x08', 'nominated_shiping_lines': '[W] 指定船公司: 在 47A 中 要在與船公司資料庫比對', 'movement': '[W] 裝船方式: unable to find movement info in 45A (此欄位不需要看？)', 'nominated_agent': '[W] 指定代理商: (此欄位不需要看？)'}, 'shipping_docs': {'b_l': {'original': 3, 'copies': 0, 'unspecified': 0, 'text': 'FULL SET, SIGNED, CLEAN\\', \\'ON BOARD\", OCEAN BILLS OF LADING OF A CONFERENCE/NON-CONFERENCE LINE VESSEL MADE OUT TO ORDER OF THE KARUR VYSYA BANK LIMITED, RAMESH NAGAR BRANCH, NEW DELHI, INDIA\\' MARKED \\'FREIGHT PREPAID\\' AND NOTIFY US AND THE APPLICANT.'}, 'inv': {'original': 1, 'copies': 4, 'unspecified': 0, 'text': 'SIGNED COMMERCIAL INVOICES IN ONE ORIGINAL PLUS FOUR COPIES FOR A VALUE NOT EXCEEDING THE DRAFT AMOUNT QUOTING IMPORT UNDER FOREIGN TRADE POLICY 2015-2020 AND CERTIFYING THAT THE GOODS ARE AS PER PROFORMA INVOICE NO. 18N12M11 DATED 21NOV2018 OF THE BENEFICIARY. THE COMMERCIAL INVOICE SHOULD MENTION THE IE CODE 0513030131 OF THE APPLICANT AND HS CODE OF THE GOODS IMPORTED. THE GROSS CIF VALUE OF THE GOODS BEFORE DEDUCTION OF AGENTS COMMISSION, IF ANY, MUST NOT EXCEED THE CREDIT AMOUNT.'}, 'p_l': {'original': 1, 'copies': 2, 'unspecified': 0, 'text': 'PACKING LIST IN THREE FOLD'}, 'i_p': {'original': 0, 'copies': 0, 'unspecified': 0, 'text': '[W] 提單: Unable to find document about insurance policy'}, 'csi': {'original': 0, 'copies': 0, 'unspecified': 0, 'text': '[W] 提單: Unable to find document about customs invoice'}, 'ci': {'original': 1, 'copies': 1, 'unspecified': 0, 'text': 'MARINE INSURANCE POLICIES/CERTIFICATES IN TWO FOLD DATED NOT LATER THAN THE DATE OF SHIPMENT UNTO ORDER AND BLANK ENDORSED FOR 10 PERCENT OVER THE INVOICE VALUE COVERING INSTITUTE CARGO CLAUSE (A), INSTITUTE WAR CLAUSE (CARGO), INSTITUTE STRIKES CLAUSE (CARGO) AND WAREHOUSE TO WAREHOUSE CLAUSES WITH CLAIMS PAYABLE IN INDIA IRRESPECTIVE OF PERCENTAGE. TRANSHIPMENT RISKS MUST BE COVERED IF THE GOODS ARE SUBJECT TO TRANSHIPMENT.'}, 'coo': {'original': 0, 'copies': 0, 'unspecified': 0, 'text': '[W] 提單: Unable to find document about certificate of origin'}, 'coa': {'original': 0, 'copies': 0, 'unspecified': 0, 'text': '[W] 提單: Unable to find document about certificate of analysis'}, 'ic': {'original': 1, 'copies': 2, 'unspecified': 0, 'text': 'CERTIFICATE OF TAIWAN ORIGIN ISSUED BY THE CHAMBER OF COMMERCE IN THREE FOLD.'}, 'importer': {'original': 0, 'copies': 0, 'unspecified': 0, 'text': '[W] 提單: Unable to find document about importer'}, 'wl': {'original': 0, 'copies': 0, 'unspecified': 0, 'text': '[W] 提單: Unable to find document about weight list'}, 'remained': [\"DRAFTS DRAWN UNDER THIS CREDIT MUST BE MARKED DRAWN UNDER LETTER OF CREDIT OF KARUR VYSYA BANK LIMITED, CFPC, CHENNAI, INDIA' AND MUST CLEARLY INDICATE THE L/C NUMBER AND OPENING DATE. THE AMOUNT OF ANY DRAFT IS TO BE ENDORSED BY THE NEGOTIATING BANK ON THE REVERSE HEREOF\", 'CERTIFICATE FROM SHIPPING COMPANY OR ITS AGENT STATING THAT THE VESSEL IS CLASSIFIED BY AN APPROVED CLASSIFICATION SOCIETY AS PER INSTITUTE CLASSIFICATION CLAUSES AND IS CLASSIFIED AS LLOYDS 100A1 OR ITS EQUIVALENT CLASSIFICATION AND IS NOT MORE THAN 25 YEARS OLD AND IS SEAWORTHY,\\x08']}, 'additional_docs': {'original_47A': '1. TRANSPORT DOCUMENTS BEARING REFERENCE BY STAMP OR OTHERWISE TO\\nCOST ADDITIONAL TO THE FREIGHT CHARGES ARE NOT ACCEPTABLE.\\n2. ALL DOCUMENTS SHOULD QUOTE OUR CREDIT NUMBER AND DATE.\\n3. DECK SHIPMENT PROHIBITED.\\n4. ALL DOCUMENTS SHOULD BE IN ENGLISH.\\n5. IF BILLS ARE RECEIVED WITH DISCREPANCIES, A DISCREPANCY FEE OF\\nUSD 75.00 WILL BE CHARGED IF THE DISCREPANCIES ARE ACCEPTED BY US\\nAND THE APPLICANT WHICH WILL BE DEDUCTED FROM THE BILL PROCEEDS.\\n6. DUE DATE SHOULD NOT EXCEED 360 DAYS FROM THE DATE OF SHIPMENT.\\n7. SEPERATE SET OF COMMERCIAL INVOICE SHOULD BE SUBMITTED FOR\\nEACH BILL OF LADING IF PART SHIPMENT IS EFFECTED.\\n8. ALL DOCUMENTS DATED PRIOR TO LC ISSUE DATE ARE NOT ACCEPTABLE.\\n8.USANCE INTEREST IS PAYABLE BY THE APPLICANT AT 6M LIBOR PLUS\\n110 BASIS POINTS PER ANNUM + USD 200 AS DOCUMENT HANDLING CHARGES\\x08AND SWIFT CHARGES FOR PER SET OF DOCUMENTS.\\n10.THE PRESENTING BANK HAS TO DESPATCH THE DOCUMENTS WITH\\nORIGINAL LC AND AMENDMENTS IF ANY DIRECTLY TO THE NEGOTIATING\\nBANK BANK OF BARODA, IFSC BANKING UNIT, OFFICE NO 803, HIRANANDANI\\nSIGNATURE BUILDING, GIFT SEZ, GIFT CITY, GANDHINAGAR, GUJARAT\\n382355, INDIA ON OR BEFORE THE VALIDITY OF THE CREDIT.\\n11. DESPITE THE TENOR OF THIS LC (120 DAYS FROM THE DATE OF\\nSHIPMENT) BANK OF BARODA, IFSC BANKING UNIT IS AUTHORISED TO\\nDISCOUNT THE BILL WITH THE DISCOUNTING INTEREST FOR USANCE PERIOD\\nAND MAKE PAYMENT TO THE BENEFICIARY AT SIGHT BASIS UPON\\nPRESENTATION OF STRICTLY CREDIT COMPLIED DOCUMENTS AND AFTER\\nRECEIPT OF ACCEPTANCE FROM LC ISSUING BANK.\\x08'}}}\n"
     ]
    }
   ],
   "source": [
    "import unit_test\n",
    "imp.reload(logger)\n",
    "imp.reload(service)\n",
    "imp.reload(visionapi)\n",
    "imp.reload(formatter)\n",
    "imp.reload(evaluator)\n",
    "imp.reload(unit_test)\n",
    "\n",
    "credential = '../../service_acc.json'\n",
    "# jpg_root = '../../local/src/jpg_root'\n",
    "jpg_root = './../../lc_files/citi/MF0IML183330002/'\n",
    "target_doc = None\n",
    "# target_doc ='201612YMIC-001LM01163500004'\n",
    "# target_doc = 'MX-M314N_20180706_151920'\n",
    "# target_doc = 'MX-M314N_20180906_151625'\n",
    "# target_doc = 'MX-M314N_20180907_113407'\n",
    "target_bank = \"\"\n",
    "# target_bank = 'wellsfargo'\n",
    "# target_bank = 'citi'\n",
    "unit_test.CLTestCases.runTestWithService(credential, jpg_root, target_bank, target_doc=target_doc)\n",
    "# unit_test.CLTestCases.runTestWithDir(jpg_root, target_bank, target_doc=target_doc, iteration=10)"
   ]
  },
  {
   "cell_type": "code",
   "execution_count": 3,
   "metadata": {},
   "outputs": [],
   "source": [
    "\n",
    "# pdf_root = './../../lc_files/citi/MF0IML183330002/MF0IML183330002.pdf'\n",
    "# visionapi.set_vision_credential(credential)\n",
    "# utils.pdf2Jpg(pdf_root, './../../lc_files/citi/MF0IML183330002/MF0IML183330002')\n",
    "\n",
    "# jpg_path = './../../lc_files/citi/469LC1183340002/page_1.jpg'\n",
    "# res = visionapi.annotateDocument(pdf_root)\n",
    "\n",
    "# with open('../../temp_res.json', 'w') as outfile:\n",
    "#     json.dump(res, outfile, ensure_ascii=False, indent=2)"
   ]
  },
  {
   "cell_type": "code",
   "execution_count": 4,
   "metadata": {
    "scrolled": true
   },
   "outputs": [],
   "source": [
    "# import pytesseract\n",
    "# from PIL import Image\n"
   ]
  },
  {
   "cell_type": "code",
   "execution_count": 5,
   "metadata": {},
   "outputs": [
    {
     "ename": "FileNotFoundError",
     "evalue": "[Errno 2] No such file or directory: 'page_1.jpg'",
     "output_type": "error",
     "traceback": [
      "\u001b[0;31m---------------------------------------------------------------------------\u001b[0m",
      "\u001b[0;31mFileNotFoundError\u001b[0m                         Traceback (most recent call last)",
      "\u001b[0;32m<ipython-input-5-95b72c55dcdb>\u001b[0m in \u001b[0;36m<module>\u001b[0;34m()\u001b[0m\n\u001b[0;32m----> 1\u001b[0;31m \u001b[0mpytesseract\u001b[0m\u001b[0;34m.\u001b[0m\u001b[0mimage_to_string\u001b[0m\u001b[0;34m(\u001b[0m\u001b[0mImage\u001b[0m\u001b[0;34m.\u001b[0m\u001b[0mopen\u001b[0m\u001b[0;34m(\u001b[0m\u001b[0;34m'page_1.jpg'\u001b[0m\u001b[0;34m)\u001b[0m\u001b[0;34m)\u001b[0m\u001b[0;34m\u001b[0m\u001b[0m\n\u001b[0m",
      "\u001b[0;32m/usr/local/lib/python3.6/site-packages/PIL/Image.py\u001b[0m in \u001b[0;36mopen\u001b[0;34m(fp, mode)\u001b[0m\n\u001b[1;32m   2475\u001b[0m \u001b[0;34m\u001b[0m\u001b[0m\n\u001b[1;32m   2476\u001b[0m     \u001b[0;32mif\u001b[0m \u001b[0mfilename\u001b[0m\u001b[0;34m:\u001b[0m\u001b[0;34m\u001b[0m\u001b[0m\n\u001b[0;32m-> 2477\u001b[0;31m         \u001b[0mfp\u001b[0m \u001b[0;34m=\u001b[0m \u001b[0mbuiltins\u001b[0m\u001b[0;34m.\u001b[0m\u001b[0mopen\u001b[0m\u001b[0;34m(\u001b[0m\u001b[0mfilename\u001b[0m\u001b[0;34m,\u001b[0m \u001b[0;34m\"rb\"\u001b[0m\u001b[0;34m)\u001b[0m\u001b[0;34m\u001b[0m\u001b[0m\n\u001b[0m\u001b[1;32m   2478\u001b[0m         \u001b[0mexclusive_fp\u001b[0m \u001b[0;34m=\u001b[0m \u001b[0;32mTrue\u001b[0m\u001b[0;34m\u001b[0m\u001b[0m\n\u001b[1;32m   2479\u001b[0m \u001b[0;34m\u001b[0m\u001b[0m\n",
      "\u001b[0;31mFileNotFoundError\u001b[0m: [Errno 2] No such file or directory: 'page_1.jpg'"
     ]
    }
   ],
   "source": [
    "# pytesseract.image_to_string(Image.open('page_1.jpg'))"
   ]
  },
  {
   "cell_type": "code",
   "execution_count": null,
   "metadata": {
    "collapsed": true
   },
   "outputs": [],
   "source": []
  }
 ],
 "metadata": {
  "kernelspec": {
   "display_name": "Python 3",
   "language": "python",
   "name": "python3"
  },
  "language_info": {
   "codemirror_mode": {
    "name": "ipython",
    "version": 3
   },
   "file_extension": ".py",
   "mimetype": "text/x-python",
   "name": "python",
   "nbconvert_exporter": "python",
   "pygments_lexer": "ipython3",
   "version": "3.6.5"
  }
 },
 "nbformat": 4,
 "nbformat_minor": 2
}
