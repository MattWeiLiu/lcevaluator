{
 "cells": [
  {
   "cell_type": "code",
   "execution_count": 1,
   "metadata": {
    "collapsed": true
   },
   "outputs": [],
   "source": [
    "import imp, os, json, re\n",
    "import service\n",
    "import package.logger as logger\n",
    "import package.utils as utils\n",
    "import package.visionapi as visionapi\n",
    "import package.reformatter as formatter\n",
    "import package.evaluator as evaluator"
   ]
  },
  {
   "cell_type": "code",
   "execution_count": 11,
   "metadata": {},
   "outputs": [
    {
     "name": "stdout",
     "output_type": "stream",
     "text": [
      "['citi', 'huanan', 'chartered', 'wellsfargo', 'mega']\n",
      "SIGNED COMMERCIAL INVOICES IN ONE ORIGINAL PLUS FOUR COPIES FOR A VALUE NOT EXCEEDING THE DRAFT AMOUNT QUOTING IMPORT UNDER FOREIGN TRADE POLICY 2015-2020 AND CERTIFYING THAT THE GOODS ARE AS PER PROFORMA INVOICE NO. 18N12M11 DATED 21NOV2018 OF THE BENEFICIARY. THE COMMERCIAL INVOICE SHOULD MENTION THE IE CODE 0513030131 OF THE APPLICANT AND HS CODE OF THE GOODS IMPORTED. THE GROSS CIF VALUE OF THE GOODS BEFORE DEDUCTION OF AGENTS COMMISSION, IF ANY, MUST NOT EXCEED THE CREDIT AMOUNT.\n",
      "FULL SET, SIGNED, CLEAN', 'ON BOARD\", OCEAN BILLS OF LADING OF A CONFERENCE/NON-CONFERENCE LINE VESSEL MADE OUT TO ORDER OF THE KARUR VYSYA BANK LIMITED, RAMESH NAGAR BRANCH, NEW DELHI, INDIA' MARKED 'FREIGHT PREPAID' AND NOTIFY US AND THE APPLICANT.\n",
      "MARINE INSURANCE POLICIES/CERTIFICATES IN TWO FOLD DATED NOT LATER THAN THE DATE OF SHIPMENT UNTO ORDER AND BLANK ENDORSED FOR 10 PERCENT OVER THE INVOICE VALUE COVERING INSTITUTE CARGO CLAUSE (A), INSTITUTE WAR CLAUSE (CARGO), INSTITUTE STRIKES CLAUSE (CARGO) AND WAREHOUSE TO WAREHOUSE CLAUSES WITH CLAIMS PAYABLE IN INDIA IRRESPECTIVE OF PERCENTAGE. TRANSHIPMENT RISKS MUST BE COVERED IF THE GOODS ARE SUBJECT TO TRANSHIPMENT.\n",
      "PACKING LIST IN THREE FOLD\n",
      "CERTIFICATE OF TAIWAN ORIGIN ISSUED BY THE CHAMBER OF COMMERCE IN THREE FOLD.\n",
      "DRAFTS DRAWN UNDER THIS CREDIT MUST BE MARKED DRAWN UNDER LETTER OF CREDIT OF KARUR VYSYA BANK LIMITED, CFPC, CHENNAI, INDIA' AND MUST CLEARLY INDICATE THE L/C NUMBER AND OPENING DATE. THE AMOUNT OF ANY DRAFT IS TO BE ENDORSED BY THE NEGOTIATING BANK ON THE REVERSE HEREOF\n",
      "CERTIFICATE FROM SHIPPING COMPANY OR ITS AGENT STATING THAT THE VESSEL IS CLASSIFIED BY AN APPROVED CLASSIFICATION SOCIETY AS PER INSTITUTE CLASSIFICATION CLAUSES AND IS CLASSIFIED AS LLOYDS 100A1 OR ITS EQUIVALENT CLASSIFICATION AND IS NOT MORE THAN 25 YEARS OLD AND IS SEAWORTHY\n"
     ]
    }
   ],
   "source": [
    "import unit_test\n",
    "imp.reload(logger)\n",
    "imp.reload(service)\n",
    "imp.reload(visionapi)\n",
    "imp.reload(formatter)\n",
    "imp.reload(evaluator)\n",
    "imp.reload(unit_test)\n",
    "\n",
    "credential = '../../service_acc.json'\n",
    "# jpg_root = '../../local/src/jpg_root'\n",
    "jpg_root = './../../lc_files/citi/MF0IML183330002/'\n",
    "target_doc = None\n",
    "# target_doc ='201612YMIC-001LM01163500004'\n",
    "# target_doc = 'MX-M314N_20180706_151920'\n",
    "# target_doc = 'MX-M314N_20180906_151625'\n",
    "# target_doc = 'MX-M314N_20180907_113407'\n",
    "target_bank = None\n",
    "# target_bank = 'wellsfargo'\n",
    "# target_bank = 'citi'\n",
    "unit_test.CLTestCases.runTestWithService(credential, jpg_root, target_bank, target_doc=target_doc)\n",
    "# unit_test.CLTestCases.runTestWithDir(jpg_root, target_bank, target_doc=target_doc, iteration=10)"
   ]
  },
  {
   "cell_type": "code",
   "execution_count": 5,
   "metadata": {},
   "outputs": [
    {
     "data": {
      "text/plain": [
       "['./../../lc_files/citi/MF0IML183330002/MF0IML183330002/page_1.jpg',\n",
       " './../../lc_files/citi/MF0IML183330002/MF0IML183330002/page_2.jpg',\n",
       " './../../lc_files/citi/MF0IML183330002/MF0IML183330002/page_3.jpg',\n",
       " './../../lc_files/citi/MF0IML183330002/MF0IML183330002/page_4.jpg',\n",
       " './../../lc_files/citi/MF0IML183330002/MF0IML183330002/page_5.jpg']"
      ]
     },
     "execution_count": 5,
     "metadata": {},
     "output_type": "execute_result"
    }
   ],
   "source": [
    "\n",
    "# pdf_root = './../../lc_files/citi/MF0IML183330002/MF0IML183330002.pdf'\n",
    "# visionapi.set_vision_credential(credential)\n",
    "# utils.pdf2Jpg(pdf_root, './../../lc_files/citi/MF0IML183330002/MF0IML183330002')\n",
    "\n",
    "# jpg_path = './../../lc_files/citi/469LC1183340002/page_1.jpg'\n",
    "# res = visionapi.annotateDocument(pdf_root)\n",
    "\n",
    "# with open('../../temp_res.json', 'w') as outfile:\n",
    "#     json.dump(res, outfile, ensure_ascii=False, indent=2)"
   ]
  },
  {
   "cell_type": "code",
   "execution_count": null,
   "metadata": {
    "scrolled": true
   },
   "outputs": [],
   "source": []
  },
  {
   "cell_type": "code",
   "execution_count": null,
   "metadata": {},
   "outputs": [],
   "source": []
  },
  {
   "cell_type": "code",
   "execution_count": null,
   "metadata": {
    "collapsed": true
   },
   "outputs": [],
   "source": []
  }
 ],
 "metadata": {
  "kernelspec": {
   "display_name": "Python 3",
   "language": "python",
   "name": "python3"
  },
  "language_info": {
   "codemirror_mode": {
    "name": "ipython",
    "version": 3
   },
   "file_extension": ".py",
   "mimetype": "text/x-python",
   "name": "python",
   "nbconvert_exporter": "python",
   "pygments_lexer": "ipython3",
   "version": "3.6.5"
  }
 },
 "nbformat": 4,
 "nbformat_minor": 2
}
