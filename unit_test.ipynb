{
 "cells": [
  {
   "cell_type": "code",
   "execution_count": 1,
   "metadata": {
    "collapsed": true
   },
   "outputs": [],
   "source": [
    "import imp, os, json, re\n",
    "import service\n",
    "import package.utils as utils\n",
    "import package.visionapi as visionapi\n",
    "import package.reformatter as formatter\n",
    "import package.evaluator as evaluator"
   ]
  },
  {
   "cell_type": "code",
   "execution_count": 3,
   "metadata": {},
   "outputs": [
    {
     "name": "stdout",
     "output_type": "stream",
     "text": [
      "[W] No image found in '../../local/src/jpg_root'\n",
      "[W] No image found in '../../local/src/jpg_root/chartered'\n",
      "[W] No image found in '../../local/src/jpg_root/citi'\n",
      "[W] No image found in '../../local/src/jpg_root/huanan'\n",
      "[W] No image found in '../../local/src/jpg_root/mega'\n",
      "[W] No image found in '../../local/src/jpg_root/wellsfargo'\n",
      "[E] While opening file at ./configs/unknown_config.yaml. error:[Errno 2] No such file or directory: './configs/unknown_config.yaml'\n",
      "{\n",
      "  \"Total docs\": 1,\n",
      "  \"Bill of lading\": \"0/1 = 0.0\",\n",
      "  \"Commercial invoice\": \"0/1 = 0.0\",\n",
      "  \"Packing list\": \"0/1 = 0.0\",\n",
      "  \"Other errors\": \"[E] Unable to read bank config at path ./configs/unknown_config.yaml\",\n",
      "  \"Failed documents\": \"1\"\n",
      "}\n"
     ]
    }
   ],
   "source": [
    "import unit_test\n",
    "imp.reload(service)\n",
    "imp.reload(visionapi)\n",
    "imp.reload(formatter)\n",
    "imp.reload(evaluator)\n",
    "imp.reload(unit_test)\n",
    "\n",
    "credential = '../../local/src/service_acc.json'\n",
    "jpg_root = '../../local/src/jpg_root'\n",
    "target_doc = None\n",
    "# target_doc ='201612YMIC-001LM01163500004'\n",
    "# target_doc = 'MX-M314N_20180705_144122'\n",
    "target_doc = 'MX-M314N_20180906_151625'\n",
    "\n",
    "# unit_test.CLTestCases.runTestWithService(credential, jpg_root, 'citi', target_doc=target_doc)\n",
    "unit_test.CLTestCases.runTestWithDir(jpg_root, 'wellsfargo', target_doc=target_doc, iteration=-1)"
   ]
  },
  {
   "cell_type": "code",
   "execution_count": null,
   "metadata": {},
   "outputs": [],
   "source": []
  },
  {
   "cell_type": "code",
   "execution_count": null,
   "metadata": {
    "collapsed": true,
    "scrolled": true
   },
   "outputs": [],
   "source": []
  },
  {
   "cell_type": "code",
   "execution_count": null,
   "metadata": {
    "collapsed": true
   },
   "outputs": [],
   "source": []
  }
 ],
 "metadata": {
  "kernelspec": {
   "display_name": "Python 3",
   "language": "python",
   "name": "python3"
  },
  "language_info": {
   "codemirror_mode": {
    "name": "ipython",
    "version": 3
   },
   "file_extension": ".py",
   "mimetype": "text/x-python",
   "name": "python",
   "nbconvert_exporter": "python",
   "pygments_lexer": "ipython3",
   "version": "3.6.5"
  }
 },
 "nbformat": 4,
 "nbformat_minor": 2
}
