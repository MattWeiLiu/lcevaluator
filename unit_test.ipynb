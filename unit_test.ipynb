{
 "cells": [
  {
   "cell_type": "code",
   "execution_count": 12,
   "metadata": {
    "collapsed": true
   },
   "outputs": [],
   "source": [
    "import imp, os, json, re\n",
    "import service\n",
    "import package.utils as utils\n",
    "import package.visionapi as visionapi\n",
    "import package.reformatter as formatter\n",
    "import package.evaluator as evaluator"
   ]
  },
  {
   "cell_type": "code",
   "execution_count": 15,
   "metadata": {},
   "outputs": [
    {
     "name": "stdout",
     "output_type": "stream",
     "text": [
      "[W] No image found in '../../local/src/jpg_root'\n",
      "[W] No image found in '../../local/src/jpg_root/chartered'\n",
      "[W] No image found in '../../local/src/jpg_root/citi'\n",
      "{\n",
      "  \"Total docs\": 10,\n",
      "  \"Bill of lading\": \"1/10 = 0.1\",\n",
      "  \"Commercial invoice\": \"0/10 = 0.0\",\n",
      "  \"Packing list\": \"0/10 = 0.0\",\n",
      "  \"Other errors\": \"[I] Check documenat ../../local/src/jpg_root/citi/MX-M314N_20180705_113725/vision_result.json\\n[E] 46A bl reuslt: [-1, 0, 0, 0, 'COPY OF CLEAN ON BOARD BILL OF LADING SHOWING CONSIGNEE: JIANGSU HUAYUAN MEDICAL TECHNOLOGY CO., LTD. NO. 36, NANZHUANG ROAD, EAST NEW DISTRICT OF DONGTAI CITY, JIANGSU, CHINA MARKED L FREIGHT PREPAID NOTIFY SAME AS CONSIGNEE SHOWING FINAL DESTINATION: TAIZHOU, CHINA AND STAMPED WITH TELEX RELEASED.']\"\n",
      "}\n"
     ]
    }
   ],
   "source": [
    "import unit_test\n",
    "imp.reload(formatter)\n",
    "imp.reload(evaluator)\n",
    "imp.reload(unit_test)\n",
    "\n",
    "jpg_root = '../../local/src/jpg_root'\n",
    "target_doc = None\n",
    "# target_doc ='MX-M314N_20180705_113539'\n",
    "unit_test.CLTestCases.runTestWithDir(jpg_root, 'citi', target_doc=target_doc)"
   ]
  },
  {
   "cell_type": "code",
   "execution_count": null,
   "metadata": {},
   "outputs": [],
   "source": []
  },
  {
   "cell_type": "code",
   "execution_count": null,
   "metadata": {
    "scrolled": true
   },
   "outputs": [],
   "source": []
  },
  {
   "cell_type": "code",
   "execution_count": null,
   "metadata": {
    "collapsed": true
   },
   "outputs": [],
   "source": []
  }
 ],
 "metadata": {
  "kernelspec": {
   "display_name": "Python 3",
   "language": "python",
   "name": "python3"
  },
  "language_info": {
   "codemirror_mode": {
    "name": "ipython",
    "version": 3
   },
   "file_extension": ".py",
   "mimetype": "text/x-python",
   "name": "python",
   "nbconvert_exporter": "python",
   "pygments_lexer": "ipython3",
   "version": "3.6.5"
  }
 },
 "nbformat": 4,
 "nbformat_minor": 2
}
