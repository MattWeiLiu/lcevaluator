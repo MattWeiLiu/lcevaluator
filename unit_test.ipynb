{
 "cells": [
  {
   "cell_type": "code",
   "execution_count": 2,
   "metadata": {
    "collapsed": true
   },
   "outputs": [],
   "source": [
    "import imp, os, json, re\n",
    "import service\n",
    "import package.logger as logger\n",
    "import package.utils as utils\n",
    "import package.visionapi as visionapi\n",
    "import package.reformatter as formatter\n",
    "import package.evaluator as evaluator\n",
    "import package.augmentation as augm"
   ]
  },
  {
   "cell_type": "code",
   "execution_count": 7,
   "metadata": {},
   "outputs": [
    {
     "name": "stdout",
     "output_type": "stream",
     "text": [
      "[W] No image found in './../../lc_files/20190102/jpgs'\n",
      "[W] No image found in './../../lc_files/20190102/jpgs/0003LC01183530021'\n",
      "[W] No image found in './../../lc_files/20190102/jpgs/0003LC01183580012'\n",
      "[W] No image found in './../../lc_files/20190102/jpgs/0004FLC180147'\n",
      "[W] No image found in './../../lc_files/20190102/jpgs/2534IMP000988018'\n",
      "[W] No image found in './../../lc_files/20190102/jpgs/363010099958L'\n",
      "[W] No image found in './../../lc_files/20190102/jpgs/DOC688276T4'\n",
      "[W] No image found in './../../lc_files/20190102/jpgs/ILC1802381'\n",
      "[W] No image found in './../../lc_files/20190102/jpgs/LCBK78540'\n"
     ]
    }
   ],
   "source": [
    "pdf_root = './../../lc_files/20190102'\n",
    "jpg_root = os.path.join(pdf_root, 'jpgs')\n",
    "utils.convertPdfsToJpegs(pdf_root, jpg_root)"
   ]
  },
  {
   "cell_type": "code",
   "execution_count": 154,
   "metadata": {},
   "outputs": [
    {
     "name": "stdout",
     "output_type": "stream",
     "text": [
      "[W] No image found in './../../lc_files/20190102/jpgs'\n",
      "[W] augmentated image path already existed will override the existing file\n",
      "[W] augmentated image path already existed will override the existing file\n",
      "[W] augmentated image path already existed will override the existing file\n",
      "[W] augmentated image path already existed will override the existing file\n",
      "[W] augmentated image path already existed will override the existing file\n",
      "\\+?\\(?\\d{1,2} ?[\\.\\) ] ? 1/ COMMERCIAL INVOICE IN 03 ORIGINALS.\n",
      "[a-zA-Z][\\. ] 1/ COMMERCIAL INVOICE IN 03 ORIGINALS.\n",
      "[\\+] ? 1/ COMMERCIAL INVOICE IN 03 ORIGINALS.\n",
      "\\d{1,2} ?\\/ ? 1/ COMMERCIAL INVOICE IN 03 ORIGINALS.\n"
     ]
    }
   ],
   "source": [
    "import unit_test\n",
    "imp.reload(logger)\n",
    "imp.reload(service)\n",
    "imp.reload(visionapi)\n",
    "imp.reload(formatter)\n",
    "imp.reload(evaluator)\n",
    "imp.reload(unit_test)\n",
    "imp.reload(augm)\n",
    "\n",
    "credential = '../../service_acc.json'\n",
    "# jpg_root = '../../local/src/jpg_root'\n",
    "jpg_root = './../../lc_files/20190102/jpgs'\n",
    "target_doc = None\n",
    "# target_doc ='0003LC01183530021'\n",
    "# target_doc = '0003LC01183580012'\n",
    "# target_doc = 'DOC688276T4'\n",
    "target_doc = 'ILC1802381'\n",
    "target_bank = \"\"\n",
    "# target_bank = 'wellsfargo'\n",
    "# target_bank = 'citi'\n",
    "unit_test.CLTestCases.runTestWithService(credential, jpg_root, target_bank, target_doc=target_doc)\n",
    "# unit_test.CLTestCases.runTestWithDir(jpg_root, target_bank, target_doc=target_doc, iteration=10)\n",
    "# unit_test.CLTestCases.runAndPrintTestWithDir(jpg_root, target_bank, target_doc=target_doc\n",
    "#                                              , save = True\n",
    "#                                              , iteration=10)\n"
   ]
  },
  {
   "cell_type": "code",
   "execution_count": 18,
   "metadata": {},
   "outputs": [
    {
     "data": {
      "text/plain": [
       "['./../../lc_files/20181218/DCTSE850087CC/page_1.jpg',\n",
       " './../../lc_files/20181218/DCTSE850087CC/page_2.jpg',\n",
       " './../../lc_files/20181218/DCTSE850087CC/page_3.jpg',\n",
       " './../../lc_files/20181218/DCTSE850087CC/page_4.jpg',\n",
       " './../../lc_files/20181218/DCTSE850087CC/page_5.jpg']"
      ]
     },
     "execution_count": 18,
     "metadata": {},
     "output_type": "execute_result"
    }
   ],
   "source": [
    "# pdf_path = './../../lc_files/20181218/DCTSE850087CC.pdf'\n",
    "# utils.pdf2Jpg(pdf_path, './../../lc_files/20181218/DCTSE850087CC')"
   ]
  },
  {
   "cell_type": "code",
   "execution_count": 72,
   "metadata": {
    "scrolled": true
   },
   "outputs": [],
   "source": [
    "from PIL import Image, ImageDraw\n",
    "bounds = [\n",
    "    [130,770,930,1080]\n",
    "#     [133, 826, 908, 1049]\n",
    "#          [141.0, 410.0, 426.0, 441.0],\n",
    "#          [923.0, 572.0, 1463.0, 750.0],\n",
    "#          [127.0, 835.0, 723.0, 861.0],\n",
    "#          [135.0, 826.0, 740.0, 914.0]\n",
    "         ]\n",
    "img_path = './../../lc_files/20190102/jpgs/ILC1802381/page_1.jpg'\n",
    "image = Image.open(img_path)\n",
    "draw = ImageDraw.Draw(image)\n",
    "utils.draw_boxes(draw, bounds)\n",
    "image.save('stdout.png', \"PNG\")"
   ]
  },
  {
   "cell_type": "code",
   "execution_count": null,
   "metadata": {},
   "outputs": [],
   "source": []
  },
  {
   "cell_type": "code",
   "execution_count": null,
   "metadata": {},
   "outputs": [],
   "source": []
  },
  {
   "cell_type": "code",
   "execution_count": null,
   "metadata": {
    "collapsed": true
   },
   "outputs": [],
   "source": []
  },
  {
   "cell_type": "code",
   "execution_count": null,
   "metadata": {
    "collapsed": true
   },
   "outputs": [],
   "source": []
  }
 ],
 "metadata": {
  "kernelspec": {
   "display_name": "Python 3",
   "language": "python",
   "name": "python3"
  },
  "language_info": {
   "codemirror_mode": {
    "name": "ipython",
    "version": 3
   },
   "file_extension": ".py",
   "mimetype": "text/x-python",
   "name": "python",
   "nbconvert_exporter": "python",
   "pygments_lexer": "ipython3",
   "version": "3.6.5"
  }
 },
 "nbformat": 4,
 "nbformat_minor": 2
}
