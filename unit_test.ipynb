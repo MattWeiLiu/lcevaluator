{
 "cells": [
  {
   "cell_type": "code",
   "execution_count": 1,
   "metadata": {
    "collapsed": true
   },
   "outputs": [],
   "source": [
    "import imp, os, json, re\n",
    "import service\n",
    "import package.logger as logger\n",
    "import package.utils as utils\n",
    "import package.visionapi as visionapi\n",
    "import package.reformatter as formatter\n",
    "import package.evaluator as evaluator\n",
    "import package.augmentation as augm"
   ]
  },
  {
   "cell_type": "code",
   "execution_count": 31,
   "metadata": {},
   "outputs": [
    {
     "name": "stdout",
     "output_type": "stream",
     "text": [
      "[W] No image found in './../../lc_files/20181218_jpg'\n",
      "[I] Evaluaing document for ./../../lc_files/20181218_jpg/DCTSE850087CC\n",
      "\n",
      "{\n",
      "  \"bill_of_lading\": {\n",
      "    \"original\": 1,\n",
      "    \"copies\": 2,\n",
      "    \"warn\": \"\",\n",
      "    \"text\": \"1/3 SET ORIGINAL CLEAN ON BOARD MARINE BILLS OF LADING PLUS TWO NON-NEGOTIABLE COPIES MADE OUT TO ORDER AND ENDORSED IN BLANK, MARKED T'FREIGHT PREPAIDI AND NOTIFY APPLICANT (FULL NAME AND ADDRESS AS SPECIFIED ABOVE, TEL: 852-23388300, FAX NO. 852-39092964).\"\n",
      "  },\n",
      "  \"commercial_invoice\": {\n",
      "    \"original\": 3,\n",
      "    \"copies\": 0,\n",
      "    \"warn\": \"\",\n",
      "    \"text\": \"SIGNED COMMERCIAL INVOICE IN TRIPLICATE.\"\n",
      "  },\n",
      "  \"packing_list\": {\n",
      "    \"original\": 3,\n",
      "    \"copies\": 0,\n",
      "    \"warn\": \"\",\n",
      "    \"text\": \"PACKING LIST IN TRIPLICATE.\"\n",
      "  },\n",
      "  \"insurance_policy\": {\n",
      "    \"original\": 2,\n",
      "    \"copies\": 0,\n",
      "    \"warn\": \"\",\n",
      "    \"text\": \"MARINE INSURANCE POLICY OR CERTIFICATE IN NEGOTIABLE FORM, IN DUPLICATE AND ENDORSED IN BLANK, FOR AT LEAST 110 PCT OF FULL CIF VALUE COVERING INSTITUTE CARGO CLAUSES (A), INSTITUTE WAR CLAUSES (CARGO) AND INSTITUTE STRIKES CLAUSES (CARGO) WITH CLAIMS PAYABLE AT DESTINATION IN THE CURRENCY OF THE INSURED AMOUNT IRRESPECTIVE OF PERCENTAGE.\"\n",
      "  },\n",
      "  \"customs_invoice\": {\n",
      "    \"original\": 0,\n",
      "    \"copies\": 0,\n",
      "    \"warn\": \"\",\n",
      "    \"text\": \"\"\n",
      "  },\n",
      "  \"consular_invoice\": {\n",
      "    \"original\": 0,\n",
      "    \"copies\": 0,\n",
      "    \"warn\": \"\",\n",
      "    \"text\": \"\"\n",
      "  },\n",
      "  \"certificate_of_origin\": {\n",
      "    \"original\": 2,\n",
      "    \"copies\": 1,\n",
      "    \"warn\": \"\",\n",
      "    \"text\": \"BENEFICIARY'S CERTIFICATE CERTIFYING THAT 2/3 SET ORIGINAL CLEAN ON BOARD MARINE BILLS OF LADING (DULY ENDORSED IN BLANK), CERTIFICATE OF ORIGIN ISSUED BY CHAMBER OF COMMERCE AND INVOICE HAS BEEN SENT DIRECT TO THE APPLICANT BY COURIER AFTER SHIPMENT.\"\n",
      "  },\n",
      "  \"inspection_certificate\": {\n",
      "    \"original\": 0,\n",
      "    \"copies\": 0,\n",
      "    \"warn\": \"\",\n",
      "    \"text\": \"\"\n",
      "  },\n",
      "  \"importer\": {\n",
      "    \"original\": 0,\n",
      "    \"copies\": 0,\n",
      "    \"warn\": \"\",\n",
      "    \"text\": \"\"\n",
      "  },\n",
      "  \"weight_list\": {\n",
      "    \"original\": 0,\n",
      "    \"copies\": 0,\n",
      "    \"warn\": \"\",\n",
      "    \"text\": \"\"\n",
      "  },\n",
      "  \"remained\": []\n",
      "}\n"
     ]
    }
   ],
   "source": [
    "import unit_test\n",
    "imp.reload(logger)\n",
    "imp.reload(service)\n",
    "imp.reload(visionapi)\n",
    "imp.reload(formatter)\n",
    "imp.reload(evaluator)\n",
    "imp.reload(unit_test)\n",
    "imp.reload(augm)\n",
    "\n",
    "credential = '../../service_acc.json'\n",
    "# jpg_root = '../../local/src/jpg_root'\n",
    "jpg_root = './../../lc_files/20181218_jpg'\n",
    "target_doc = None\n",
    "# target_doc ='201612YMIC-001LM01163500004'\n",
    "# target_doc = 'MX-M314N_20180706_151920'\n",
    "# target_doc = 'MX-M314N_20180906_151625'\n",
    "# target_doc = '469LC1183340002'\n",
    "# target_doc = '183330002'\n",
    "# target_doc = '180023'\n",
    "# target_doc = '81800066'\n",
    "# target_doc = '0005180014167'\n",
    "# target_doc = '0402018'\n",
    "# target_doc = '01181760014'\n",
    "# target_doc = '001006318' ## still have problem (few words missing in result of Vision API )\n",
    "# target_doc = '169010043416'\n",
    "# target_doc = '1045000820118'\n",
    "# target_doc = '0017218'\n",
    "target_doc = 'DCTSE850087CC'\n",
    "target_bank = \"\"\n",
    "# target_bank = 'wellsfargo'\n",
    "# target_bank = 'citi'\n",
    "# unit_test.CLTestCases.runTestWithService(credential, jpg_root, target_bank, target_doc=target_doc)\n",
    "# unit_test.CLTestCases.runTestWithDir(jpg_root, target_bank, target_doc=target_doc, iteration=10)\n",
    "unit_test.CLTestCases.runAndPrintTestWithDir(jpg_root, target_bank, target_doc=target_doc\n",
    "                                             , save = True\n",
    "                                             , iteration=10)\n"
   ]
  },
  {
   "cell_type": "code",
   "execution_count": 18,
   "metadata": {},
   "outputs": [
    {
     "data": {
      "text/plain": [
       "['./../../lc_files/20181218/DCTSE850087CC/page_1.jpg',\n",
       " './../../lc_files/20181218/DCTSE850087CC/page_2.jpg',\n",
       " './../../lc_files/20181218/DCTSE850087CC/page_3.jpg',\n",
       " './../../lc_files/20181218/DCTSE850087CC/page_4.jpg',\n",
       " './../../lc_files/20181218/DCTSE850087CC/page_5.jpg']"
      ]
     },
     "execution_count": 18,
     "metadata": {},
     "output_type": "execute_result"
    }
   ],
   "source": [
    "# pdf_path = './../../lc_files/20181218/DCTSE850087CC.pdf'\n",
    "# utils.pdf2Jpg(pdf_path, './../../lc_files/20181218/DCTSE850087CC')"
   ]
  },
  {
   "cell_type": "code",
   "execution_count": null,
   "metadata": {
    "collapsed": true,
    "scrolled": true
   },
   "outputs": [],
   "source": []
  },
  {
   "cell_type": "code",
   "execution_count": null,
   "metadata": {
    "collapsed": true
   },
   "outputs": [],
   "source": []
  },
  {
   "cell_type": "code",
   "execution_count": null,
   "metadata": {
    "collapsed": true
   },
   "outputs": [],
   "source": []
  },
  {
   "cell_type": "code",
   "execution_count": null,
   "metadata": {
    "collapsed": true
   },
   "outputs": [],
   "source": []
  },
  {
   "cell_type": "code",
   "execution_count": null,
   "metadata": {
    "collapsed": true
   },
   "outputs": [],
   "source": []
  }
 ],
 "metadata": {
  "kernelspec": {
   "display_name": "Python 3",
   "language": "python",
   "name": "python3"
  },
  "language_info": {
   "codemirror_mode": {
    "name": "ipython",
    "version": 3
   },
   "file_extension": ".py",
   "mimetype": "text/x-python",
   "name": "python",
   "nbconvert_exporter": "python",
   "pygments_lexer": "ipython3",
   "version": "3.6.5"
  }
 },
 "nbformat": 4,
 "nbformat_minor": 2
}
