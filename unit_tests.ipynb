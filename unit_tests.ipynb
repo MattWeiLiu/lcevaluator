{
 "cells": [
  {
   "cell_type": "code",
   "execution_count": 1,
   "metadata": {
    "collapsed": true
   },
   "outputs": [],
   "source": [
    "import imp, os, json, re\n",
    "import service\n",
    "import package.logger as logger\n",
    "import package.utils as utils\n",
    "import package.visionapi as visionapi\n",
    "import package.reformatter as formatter\n",
    "import package.evaluator as evaluator\n",
    "import package.augmentation as augm"
   ]
  },
  {
   "cell_type": "code",
   "execution_count": 2,
   "metadata": {},
   "outputs": [
    {
     "name": "stdout",
     "output_type": "stream",
     "text": [
      "5. FULL SURVEY REPORT ISSUED BY INDEPENDENT SURVEYOR IN 1\n",
      "ORIGINAL AND 1 COPY, INCLUDING:\n",
      "CERTIFICATE OF QUANTITY/WEIGHT\n",
      "CERTIFICATE OF QUALITY\n",
      "CERTIFICATE OF VESSEL TANK'S CLEANLINESS\n",
      "ULLAGE REPORT\n",
      "TIME LOG\n",
      "\n"
     ]
    }
   ],
   "source": [
    "text_1 = \"\"\"1 BENEFICIARYS DRAFT IN DUPLICATE PAYABLE AT 90 DAYS FROM BILL OF LADING DATE FOR INVOICE VALUE OF GOODS SHIPPED QUOTING LC NO. 2534IMPO00988018 AND DATE 19/06/2018.\n",
    "3. FULL SET, SIGNED, CLEAN ON BOARD OCEAN BILLS OF LADING MADE OUT TO ORDER OF BANK OF BARODA, CFS PUNE, 39, MANTRI COURT, B. R. AMBEDKAR ROAD, NEAR OLD RTO OFFICE, PUNE-411001, MAHARASHTRA, INDIA MARKED FREIGHT PREPAID AND NOTIFY APPLICANT SUSHILA PARMAR INTERNATIONAL PVT LTD 31, SHREE ADINATH SHOPPING CENTRE PUNE SATARA ROAD, PUNE-411037.\"\n",
    "\"\"\"\n",
    "text_2 = \"\"\"5. FULL SURVEY REPORT ISSUED BY INDEPENDENT SURVEYOR IN 1\\nORIGINAL AND 1 COPY, INCLUDING:\\nCERTIFICATE OF QUANTITY/WEIGHT\\nCERTIFICATE OF QUALITY\\nCERTIFICATE OF VESSEL TANK'S CLEANLINESS\\nULLAGE REPORT\\nTIME LOG\\n\"\"\"\n",
    "print(text_2)"
   ]
  },
  {
   "cell_type": "code",
   "execution_count": 3,
   "metadata": {
    "collapsed": true
   },
   "outputs": [],
   "source": [
    "config = utils.loadFileIfExisted('./configs/general.yaml')\n",
    "req_docs = config['req_docs']\n",
    "req_items = req_docs['items']\n",
    "paragraph_pat = req_docs['paragraph_patterns']\n",
    "quantity_pat = req_docs['quantity_patterns']"
   ]
  },
  {
   "cell_type": "code",
   "execution_count": 14,
   "metadata": {},
   "outputs": [
    {
     "ename": "NameError",
     "evalue": "name 'text_2' is not defined",
     "output_type": "error",
     "traceback": [
      "\u001b[0;31m---------------------------------------------------------------------------\u001b[0m",
      "\u001b[0;31mNameError\u001b[0m                                 Traceback (most recent call last)",
      "\u001b[0;32m<ipython-input-14-874d33233ca7>\u001b[0m in \u001b[0;36m<module>\u001b[0;34m()\u001b[0m\n\u001b[1;32m     31\u001b[0m     \u001b[0;32mreturn\u001b[0m \u001b[0mres_req_docs\u001b[0m\u001b[0;34m\u001b[0m\u001b[0m\n\u001b[1;32m     32\u001b[0m \u001b[0;34m\u001b[0m\u001b[0m\n\u001b[0;32m---> 33\u001b[0;31m \u001b[0msplitted\u001b[0m \u001b[0;34m=\u001b[0m \u001b[0mre\u001b[0m\u001b[0;34m.\u001b[0m\u001b[0msplit\u001b[0m\u001b[0;34m(\u001b[0m\u001b[0;34mr'\\n'\u001b[0m\u001b[0;34m,\u001b[0m \u001b[0mtext_2\u001b[0m\u001b[0;34m)\u001b[0m\u001b[0;34m\u001b[0m\u001b[0m\n\u001b[0m\u001b[1;32m     34\u001b[0m \u001b[0mres\u001b[0m \u001b[0;34m=\u001b[0m \u001b[0mtesting_extraction\u001b[0m\u001b[0;34m(\u001b[0m\u001b[0msplitted\u001b[0m\u001b[0;34m,\u001b[0m \u001b[0mreq_items\u001b[0m\u001b[0;34m)\u001b[0m\u001b[0;34m\u001b[0m\u001b[0m\n\u001b[1;32m     35\u001b[0m \u001b[0mprint\u001b[0m\u001b[0;34m(\u001b[0m\u001b[0mjson\u001b[0m\u001b[0;34m.\u001b[0m\u001b[0mdumps\u001b[0m\u001b[0;34m(\u001b[0m\u001b[0mres\u001b[0m\u001b[0;34m,\u001b[0m \u001b[0mindent\u001b[0m\u001b[0;34m=\u001b[0m\u001b[0;36m2\u001b[0m\u001b[0;34m)\u001b[0m\u001b[0;34m)\u001b[0m\u001b[0;34m\u001b[0m\u001b[0m\n",
      "\u001b[0;31mNameError\u001b[0m: name 'text_2' is not defined"
     ]
    }
   ],
   "source": [
    "def testing_extraction(splitted, req_items):\n",
    "    res_req_docs = {}\n",
    "    for idx, line in enumerate(splitted):\n",
    "        catched_list = []\n",
    "        remained = []\n",
    "        default_org = 0\n",
    "        default_cop = 0\n",
    "        for item in req_items:\n",
    "            cur_key_name = item['name']\n",
    "            cur_key_list = item['keys']\n",
    "            for k in cur_key_list:\n",
    "                contained = k.upper() in line.upper()\n",
    "                if contained:\n",
    "                    catched_list.append(cur_key_name)\n",
    "                    break\n",
    "                    \n",
    "        if len(catched_list) == 0:\n",
    "            remained.append(line)\n",
    "        else:\n",
    "            quantity_list = []\n",
    "            for cur_key_name in catched_list:\n",
    "                target_line = line\n",
    "                target_line = utils.text2number(target_line)\n",
    "                target_line = evaluator.replaceDuplicates(target_line)\n",
    "                target_line = evaluator.replaceFullset(target_line, cur_key_name)\n",
    "                target_line = evaluator.replaceSpecialCase(target_line)\n",
    "                org_res, cop_res = evaluator.detect_quantity_with_patterns(target_line, quantity_pat['original'], quantity_pat['copy'], quantity_pat['fold'])\n",
    "                quantity_list.append([org_res, cop_res])\n",
    "    \n",
    "            print(catched_list, quantity_list)\n",
    "    return res_req_docs\n",
    "        \n",
    "splitted = re.split(r'\\n', text_2)\n",
    "res = testing_extraction(splitted, req_items)\n",
    "print(json.dumps(res, indent=2))"
   ]
  },
  {
   "cell_type": "code",
   "execution_count": 15,
   "metadata": {},
   "outputs": [
    {
     "name": "stdout",
     "output_type": "stream",
     "text": [
      "hello (1 ORIGINAL PLUS 1 COPY) world\n"
     ]
    }
   ],
   "source": [
    "import re\n",
    "content = 'hello (IN ORIGINAL PLUS 1 COPY) world'\n",
    "specials = ['(ORIGINAL PLUS COPY)', '(IN ORIGINAL PLUS 1 COPY)']\n",
    "value = content\n",
    "for case in specials:\n",
    "    value = re.sub(case, '1 ORIGINAL PLUS 1 COPY', value, re.IGNORECASE)\n",
    "#     value = value.replace(case, '1 ORIGINAL PLUS 1 COPY')\n",
    "print(value)"
   ]
  },
  {
   "cell_type": "code",
   "execution_count": null,
   "metadata": {
    "collapsed": true
   },
   "outputs": [],
   "source": []
  }
 ],
 "metadata": {
  "kernelspec": {
   "display_name": "Python 3",
   "language": "python",
   "name": "python3"
  },
  "language_info": {
   "codemirror_mode": {
    "name": "ipython",
    "version": 3
   },
   "file_extension": ".py",
   "mimetype": "text/x-python",
   "name": "python",
   "nbconvert_exporter": "python",
   "pygments_lexer": "ipython3",
   "version": "3.6.5"
  }
 },
 "nbformat": 4,
 "nbformat_minor": 2
}
